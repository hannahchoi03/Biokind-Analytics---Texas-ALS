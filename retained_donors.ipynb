{
 "cells": [
  {
   "cell_type": "code",
   "execution_count": 2,
   "id": "7ea77189",
   "metadata": {},
   "outputs": [],
   "source": [
    "import numpy as np\n",
    "import matplotlib\n",
    "import matplotlib.pyplot as plt\n",
    "import pandas as pd"
   ]
  },
  {
   "cell_type": "markdown",
   "id": "61f5ee8c",
   "metadata": {},
   "source": [
    "## Binary Classification Model Tester"
   ]
  },
  {
   "cell_type": "code",
   "execution_count": 3,
   "id": "41e9ad61",
   "metadata": {},
   "outputs": [],
   "source": [
    "#%% Model Comparison Tool\n",
    "from sklearn.metrics import roc_auc_score\n",
    "from sklearn.metrics import confusion_matrix\n",
    "from sklearn.metrics import accuracy_score, f1_score, precision_score, recall_score\n",
    "from sklearn import metrics\n",
    "from sklearn import model_selection\n",
    "\n",
    "class model_tester:\n",
    "    def __init__(self, df, target):\n",
    "        train_data, test_data = model_selection.train_test_split(df, test_size = 0.2) \n",
    "        self.X_train = train_data.drop(target, axis =1)\n",
    "        self.y_train = train_data[target]\n",
    "        self.X_test = test_data.drop(target, axis =1)\n",
    "        self.y_test = test_data[target]\n",
    "        self.models = {}\n",
    "    \n",
    "    def test_model(self, model, model_type):\n",
    "        print(self.X_train.columns)\n",
    "        model.fit(self.X_train, self.y_train)\n",
    "        y_pred = model.predict(self.X_test)\n",
    "        accuracy = accuracy_score(self.y_test, y_pred)\n",
    "        precision = precision_score(self.y_test, y_pred, average=\"macro\")\n",
    "        recall =  recall_score(self.y_test, y_pred, average=\"macro\")\n",
    "        f1 =  f1_score(self.y_test, y_pred, average=\"macro\")\n",
    "        \n",
    "        y_prob = model.predict_proba(self.X_test)\n",
    "        roc_auc = roc_auc_score(self.y_test, y_prob[:,1], average=\"macro\")\n",
    "        print(f'{model_type} model performance')\n",
    "        print(\"Confusion Matrix:\\n\", confusion_matrix(self.y_test, y_pred))\n",
    "        print(f'Accuracy: {accuracy}')\n",
    "        print(f'Precision: {precision}')\n",
    "        print(f'Recall: {recall}')\n",
    "        print(f'F1 Score: {f1}')\n",
    "        print(f'ROC-AUC: {roc_auc}')\n",
    "        metrics.RocCurveDisplay.from_predictions(self.y_test, y_prob[:,1], name = model_type)\n",
    "        self.models[model_type] = {'model': model,'AUC': roc_auc, 'accuracy': accuracy, 'precision': precision, 'recall': recall, 'f1': f1}\n",
    "    \n",
    "    def calc_scores(self, model_type):\n",
    "        scores = []\n",
    "        model = self.models[model_type]['model']\n",
    "        #Note that everytime .fit() is called the parameters are reset so there's no influence from previously trained models\n",
    "        ## Identifying the best predictor, see which variable when removed affects our model the most\n",
    "        for i, var_name in enumerate(self.X_train.columns):    \n",
    "            X_train_rem = self.X_train.drop(var_name, axis =1)\n",
    "            X_test_rem = self.X_test.drop(var_name, axis =1)\n",
    "            model.fit(X_train_rem, self.y_train)\n",
    "            y_pred = model.predict(X_test_rem)\n",
    "            accuracy = accuracy_score(self.y_test, y_pred)\n",
    "            precision = precision_score(self.y_test, y_pred, average=\"macro\")\n",
    "            recall =  recall_score(self.y_test, y_pred, average=\"macro\")\n",
    "            f1 =  f1_score(self.y_test, y_pred, average=\"macro\")\n",
    "            y_prob = model.predict_proba(X_test_rem)\n",
    "            roc_auc = roc_auc_score(self.y_test, y_prob[:,1], average=\"macro\")\n",
    "            print(f'{model_type} model without {var_name} trained. ({i+1}/{len(self.X_train.columns)})')\n",
    "            scores.append({'name': var_name, 'AUC': roc_auc, 'accuracy': accuracy, 'precision': precision, 'recall': recall, 'f1': f1})\n",
    "        self.scores = scores\n",
    "        self.models[model_type]['scores'] = scores\n",
    "    \n",
    "    def find_best_predictors(self, model_type):\n",
    "        print(f'===Lowest Performance Scores of each Metric of {model_type} model===')\n",
    "        print(f'Lowest AUC: {sorted(self.scores, key = lambda x: x[\"AUC\"])[0][\"name\"]}')\n",
    "        print(f'Lowest Precision: {sorted(self.scores, key = lambda x: x[\"precision\"])[0][\"name\"]}')\n",
    "        print(f'Lowest Accuracy: {sorted(self.scores, key = lambda x: x[\"accuracy\"])[0][\"name\"]}')\n",
    "        print(f'Lowest Recall: {sorted(self.scores, key = lambda x: x[\"recall\"])[0][\"name\"]}')\n",
    "        print(f'Lowest F1: {sorted(self.scores, key = lambda x: x[\"f1\"])[0][\"name\"]}')\n",
    "        \n",
    "    def predict(self, rows, model_type):\n",
    "        model = self.models[model_type]['model']\n",
    "        return model.predict_proba(rows)"
   ]
  },
  {
   "cell_type": "markdown",
   "id": "e6617827",
   "metadata": {},
   "source": [
    "## Data Processing"
   ]
  },
  {
   "cell_type": "code",
   "execution_count": 4,
   "id": "e9b80bb6",
   "metadata": {
    "scrolled": false
   },
   "outputs": [
    {
     "data": {
      "text/html": [
       "<div>\n",
       "<style scoped>\n",
       "    .dataframe tbody tr th:only-of-type {\n",
       "        vertical-align: middle;\n",
       "    }\n",
       "\n",
       "    .dataframe tbody tr th {\n",
       "        vertical-align: top;\n",
       "    }\n",
       "\n",
       "    .dataframe thead th {\n",
       "        text-align: right;\n",
       "    }\n",
       "</style>\n",
       "<table border=\"1\" class=\"dataframe\">\n",
       "  <thead>\n",
       "    <tr style=\"text-align: right;\">\n",
       "      <th></th>\n",
       "      <th>Donation ID</th>\n",
       "      <th>Donor ID</th>\n",
       "      <th>Received Date</th>\n",
       "      <th>Donation Amount</th>\n",
       "      <th>Campaign Id</th>\n",
       "      <th>Fund Description</th>\n",
       "      <th>Fund Name</th>\n",
       "      <th>Payment Type</th>\n",
       "      <th>First Gift Date</th>\n",
       "      <th>Last Gift Date</th>\n",
       "      <th>Gender</th>\n",
       "      <th>Age</th>\n",
       "      <th>Postal Code</th>\n",
       "      <th>City</th>\n",
       "      <th>Total Number of Donation</th>\n",
       "      <th>Total Amount of Donation</th>\n",
       "      <th>Retained</th>\n",
       "    </tr>\n",
       "  </thead>\n",
       "  <tbody>\n",
       "    <tr>\n",
       "      <th>0</th>\n",
       "      <td>167648</td>\n",
       "      <td>1735748</td>\n",
       "      <td>2017-01-01</td>\n",
       "      <td>50.0</td>\n",
       "      <td>4053</td>\n",
       "      <td>Events:Walks</td>\n",
       "      <td>Events:Walks</td>\n",
       "      <td>Credit Card</td>\n",
       "      <td>2017-01-01</td>\n",
       "      <td>2017-01-01</td>\n",
       "      <td>Unknown or N/A</td>\n",
       "      <td>NaN</td>\n",
       "      <td>77494.0</td>\n",
       "      <td>Katy</td>\n",
       "      <td>3</td>\n",
       "      <td>130.0</td>\n",
       "      <td>1</td>\n",
       "    </tr>\n",
       "    <tr>\n",
       "      <th>1</th>\n",
       "      <td>168284</td>\n",
       "      <td>1736258</td>\n",
       "      <td>2017-01-01</td>\n",
       "      <td>500.0</td>\n",
       "      <td>7193</td>\n",
       "      <td>Unrestricted Giving:Memorials</td>\n",
       "      <td>Memorials</td>\n",
       "      <td>Other</td>\n",
       "      <td>2017-01-01</td>\n",
       "      <td>2017-01-01</td>\n",
       "      <td>Unknown or N/A</td>\n",
       "      <td>NaN</td>\n",
       "      <td>77493.0</td>\n",
       "      <td>Katy</td>\n",
       "      <td>1</td>\n",
       "      <td>500.0</td>\n",
       "      <td>0</td>\n",
       "    </tr>\n",
       "    <tr>\n",
       "      <th>2</th>\n",
       "      <td>168285</td>\n",
       "      <td>1736259</td>\n",
       "      <td>2017-01-01</td>\n",
       "      <td>1000.0</td>\n",
       "      <td>42</td>\n",
       "      <td>Individual Donor</td>\n",
       "      <td>Individual Donor</td>\n",
       "      <td>Other</td>\n",
       "      <td>2017-01-01</td>\n",
       "      <td>2017-01-01</td>\n",
       "      <td>Unknown or N/A</td>\n",
       "      <td>NaN</td>\n",
       "      <td>77018.0</td>\n",
       "      <td>Houston</td>\n",
       "      <td>1</td>\n",
       "      <td>1000.0</td>\n",
       "      <td>0</td>\n",
       "    </tr>\n",
       "    <tr>\n",
       "      <th>3</th>\n",
       "      <td>168286</td>\n",
       "      <td>1736260</td>\n",
       "      <td>2017-01-01</td>\n",
       "      <td>250.0</td>\n",
       "      <td>7193</td>\n",
       "      <td>Unrestricted Giving:Memorials</td>\n",
       "      <td>Memorials</td>\n",
       "      <td>Other</td>\n",
       "      <td>2017-01-01</td>\n",
       "      <td>2017-01-01</td>\n",
       "      <td>Unknown or N/A</td>\n",
       "      <td>NaN</td>\n",
       "      <td>77024.0</td>\n",
       "      <td>Houston</td>\n",
       "      <td>1</td>\n",
       "      <td>250.0</td>\n",
       "      <td>0</td>\n",
       "    </tr>\n",
       "    <tr>\n",
       "      <th>4</th>\n",
       "      <td>168343</td>\n",
       "      <td>1689213</td>\n",
       "      <td>2017-01-01</td>\n",
       "      <td>100.0</td>\n",
       "      <td>352</td>\n",
       "      <td>Individual Donor</td>\n",
       "      <td>Individual Donor</td>\n",
       "      <td>Other</td>\n",
       "      <td>2017-01-01</td>\n",
       "      <td>2017-01-01</td>\n",
       "      <td>Unknown or N/A</td>\n",
       "      <td>NaN</td>\n",
       "      <td>75048.0</td>\n",
       "      <td>Sachse</td>\n",
       "      <td>2</td>\n",
       "      <td>200.0</td>\n",
       "      <td>1</td>\n",
       "    </tr>\n",
       "  </tbody>\n",
       "</table>\n",
       "</div>"
      ],
      "text/plain": [
       "   Donation ID  Donor ID Received Date  Donation Amount  Campaign Id  \\\n",
       "0       167648   1735748    2017-01-01             50.0         4053   \n",
       "1       168284   1736258    2017-01-01            500.0         7193   \n",
       "2       168285   1736259    2017-01-01           1000.0           42   \n",
       "3       168286   1736260    2017-01-01            250.0         7193   \n",
       "4       168343   1689213    2017-01-01            100.0          352   \n",
       "\n",
       "                Fund Description         Fund Name Payment Type  \\\n",
       "0                   Events:Walks      Events:Walks  Credit Card   \n",
       "1  Unrestricted Giving:Memorials         Memorials        Other   \n",
       "2               Individual Donor  Individual Donor        Other   \n",
       "3  Unrestricted Giving:Memorials         Memorials        Other   \n",
       "4               Individual Donor  Individual Donor        Other   \n",
       "\n",
       "  First Gift Date Last Gift Date          Gender  Age  Postal Code     City  \\\n",
       "0      2017-01-01     2017-01-01  Unknown or N/A  NaN      77494.0     Katy   \n",
       "1      2017-01-01     2017-01-01  Unknown or N/A  NaN      77493.0     Katy   \n",
       "2      2017-01-01     2017-01-01  Unknown or N/A  NaN      77018.0  Houston   \n",
       "3      2017-01-01     2017-01-01  Unknown or N/A  NaN      77024.0  Houston   \n",
       "4      2017-01-01     2017-01-01  Unknown or N/A  NaN      75048.0   Sachse   \n",
       "\n",
       "   Total Number of Donation  Total Amount of Donation  Retained  \n",
       "0                         3                     130.0         1  \n",
       "1                         1                     500.0         0  \n",
       "2                         1                    1000.0         0  \n",
       "3                         1                     250.0         0  \n",
       "4                         2                     200.0         1  "
      ]
     },
     "execution_count": 4,
     "metadata": {},
     "output_type": "execute_result"
    }
   ],
   "source": [
    "df = pd.read_csv('ALS 2017-2022 Donor Data.csv')\n",
    "df.head()"
   ]
  },
  {
   "cell_type": "code",
   "execution_count": 5,
   "id": "6ed55e00",
   "metadata": {},
   "outputs": [
    {
     "name": "stdout",
     "output_type": "stream",
     "text": [
      "<class 'pandas.core.frame.DataFrame'>\n",
      "RangeIndex: 57716 entries, 0 to 57715\n",
      "Data columns (total 17 columns):\n",
      " #   Column                    Non-Null Count  Dtype  \n",
      "---  ------                    --------------  -----  \n",
      " 0   Donation ID               57716 non-null  int64  \n",
      " 1   Donor ID                  57716 non-null  int64  \n",
      " 2   Received Date             57716 non-null  object \n",
      " 3   Donation Amount           57716 non-null  float64\n",
      " 4   Campaign Id               57716 non-null  int64  \n",
      " 5   Fund Description          57706 non-null  object \n",
      " 6   Fund Name                 57706 non-null  object \n",
      " 7   Payment Type              57706 non-null  object \n",
      " 8   First Gift Date           57716 non-null  object \n",
      " 9   Last Gift Date            57716 non-null  object \n",
      " 10  Gender                    57227 non-null  object \n",
      " 11  Age                       807 non-null    float64\n",
      " 12  Postal Code               45230 non-null  float64\n",
      " 13  City                      45409 non-null  object \n",
      " 14  Total Number of Donation  57716 non-null  int64  \n",
      " 15  Total Amount of Donation  57716 non-null  float64\n",
      " 16  Retained                  57716 non-null  int64  \n",
      "dtypes: float64(4), int64(5), object(8)\n",
      "memory usage: 7.5+ MB\n"
     ]
    }
   ],
   "source": [
    "df.info()"
   ]
  },
  {
   "cell_type": "markdown",
   "id": "d6f8c054",
   "metadata": {},
   "source": [
    "### Convert Date Columns to DateTypes"
   ]
  },
  {
   "cell_type": "code",
   "execution_count": 6,
   "id": "361a069c",
   "metadata": {},
   "outputs": [],
   "source": [
    "for dateCol in ['Received Date', 'First Gift Date', 'Last Gift Date']:\n",
    "    df[dateCol] = pd.to_datetime(df[dateCol])"
   ]
  },
  {
   "cell_type": "markdown",
   "id": "afd9846c",
   "metadata": {},
   "source": [
    "### Introduce ZipCode Dataset"
   ]
  },
  {
   "cell_type": "code",
   "execution_count": 7,
   "id": "cf60f2df",
   "metadata": {},
   "outputs": [],
   "source": [
    "zipCodes = pd.read_csv('uszips.csv')"
   ]
  },
  {
   "cell_type": "code",
   "execution_count": 8,
   "id": "56a0d3f7",
   "metadata": {
    "scrolled": true
   },
   "outputs": [
    {
     "name": "stdout",
     "output_type": "stream",
     "text": [
      "<class 'pandas.core.frame.DataFrame'>\n",
      "RangeIndex: 33790 entries, 0 to 33789\n",
      "Data columns (total 18 columns):\n",
      " #   Column            Non-Null Count  Dtype  \n",
      "---  ------            --------------  -----  \n",
      " 0   zip               33790 non-null  int64  \n",
      " 1   lat               33790 non-null  float64\n",
      " 2   lng               33790 non-null  float64\n",
      " 3   city              33790 non-null  object \n",
      " 4   state_id          33790 non-null  object \n",
      " 5   state_name        33790 non-null  object \n",
      " 6   zcta              33790 non-null  bool   \n",
      " 7   parent_zcta       0 non-null      float64\n",
      " 8   population        33773 non-null  float64\n",
      " 9   density           33773 non-null  float64\n",
      " 10  county_fips       33790 non-null  int64  \n",
      " 11  county_name       33790 non-null  object \n",
      " 12  county_weights    33790 non-null  object \n",
      " 13  county_names_all  33790 non-null  object \n",
      " 14  county_fips_all   33790 non-null  object \n",
      " 15  imprecise         33790 non-null  bool   \n",
      " 16  military          33790 non-null  bool   \n",
      " 17  timezone          33790 non-null  object \n",
      "dtypes: bool(3), float64(5), int64(2), object(8)\n",
      "memory usage: 4.0+ MB\n"
     ]
    }
   ],
   "source": [
    "zipCodes.info()"
   ]
  },
  {
   "cell_type": "markdown",
   "id": "471c0c1c",
   "metadata": {},
   "source": [
    "### Merge and quantify Everything"
   ]
  },
  {
   "cell_type": "code",
   "execution_count": 9,
   "id": "efbb06b9",
   "metadata": {},
   "outputs": [],
   "source": [
    "quant_df = df.merge(zipCodes, 'inner', left_on = 'Postal Code', right_on = 'zip')"
   ]
  },
  {
   "cell_type": "code",
   "execution_count": 10,
   "id": "38c1de17",
   "metadata": {},
   "outputs": [],
   "source": [
    "quant_df = quant_df[['Fund Description','Received Date', 'Donation Amount', 'Gender', 'Age', 'Retained', 'lat', 'lng','population', 'density']]"
   ]
  },
  {
   "cell_type": "code",
   "execution_count": 11,
   "id": "e7411ba4",
   "metadata": {
    "scrolled": true
   },
   "outputs": [
    {
     "data": {
      "text/html": [
       "<div>\n",
       "<style scoped>\n",
       "    .dataframe tbody tr th:only-of-type {\n",
       "        vertical-align: middle;\n",
       "    }\n",
       "\n",
       "    .dataframe tbody tr th {\n",
       "        vertical-align: top;\n",
       "    }\n",
       "\n",
       "    .dataframe thead th {\n",
       "        text-align: right;\n",
       "    }\n",
       "</style>\n",
       "<table border=\"1\" class=\"dataframe\">\n",
       "  <thead>\n",
       "    <tr style=\"text-align: right;\">\n",
       "      <th></th>\n",
       "      <th>Fund Description</th>\n",
       "      <th>Received Date</th>\n",
       "      <th>Donation Amount</th>\n",
       "      <th>Gender</th>\n",
       "      <th>Age</th>\n",
       "      <th>Retained</th>\n",
       "      <th>lat</th>\n",
       "      <th>lng</th>\n",
       "      <th>population</th>\n",
       "      <th>density</th>\n",
       "    </tr>\n",
       "  </thead>\n",
       "  <tbody>\n",
       "    <tr>\n",
       "      <th>0</th>\n",
       "      <td>Events:Walks</td>\n",
       "      <td>2017-01-01</td>\n",
       "      <td>50.0</td>\n",
       "      <td>Unknown or N/A</td>\n",
       "      <td>NaN</td>\n",
       "      <td>1</td>\n",
       "      <td>29.74566</td>\n",
       "      <td>-95.82302</td>\n",
       "      <td>129165.0</td>\n",
       "      <td>1316.4</td>\n",
       "    </tr>\n",
       "    <tr>\n",
       "      <th>1</th>\n",
       "      <td>Unrestricted Giving:Memorials</td>\n",
       "      <td>2017-02-16</td>\n",
       "      <td>25.0</td>\n",
       "      <td>Unknown or N/A</td>\n",
       "      <td>NaN</td>\n",
       "      <td>0</td>\n",
       "      <td>29.74566</td>\n",
       "      <td>-95.82302</td>\n",
       "      <td>129165.0</td>\n",
       "      <td>1316.4</td>\n",
       "    </tr>\n",
       "    <tr>\n",
       "      <th>2</th>\n",
       "      <td>Unrestricted Giving:Memorials</td>\n",
       "      <td>2017-02-28</td>\n",
       "      <td>100.0</td>\n",
       "      <td>Male</td>\n",
       "      <td>NaN</td>\n",
       "      <td>1</td>\n",
       "      <td>29.74566</td>\n",
       "      <td>-95.82302</td>\n",
       "      <td>129165.0</td>\n",
       "      <td>1316.4</td>\n",
       "    </tr>\n",
       "    <tr>\n",
       "      <th>3</th>\n",
       "      <td>Unrestricted Giving:Memorials</td>\n",
       "      <td>2017-05-30</td>\n",
       "      <td>50.0</td>\n",
       "      <td>Female</td>\n",
       "      <td>NaN</td>\n",
       "      <td>0</td>\n",
       "      <td>29.74566</td>\n",
       "      <td>-95.82302</td>\n",
       "      <td>129165.0</td>\n",
       "      <td>1316.4</td>\n",
       "    </tr>\n",
       "    <tr>\n",
       "      <th>4</th>\n",
       "      <td>Events:Walks</td>\n",
       "      <td>2017-06-23</td>\n",
       "      <td>50.0</td>\n",
       "      <td>Unknown or N/A</td>\n",
       "      <td>NaN</td>\n",
       "      <td>0</td>\n",
       "      <td>29.74566</td>\n",
       "      <td>-95.82302</td>\n",
       "      <td>129165.0</td>\n",
       "      <td>1316.4</td>\n",
       "    </tr>\n",
       "  </tbody>\n",
       "</table>\n",
       "</div>"
      ],
      "text/plain": [
       "                Fund Description Received Date  Donation Amount  \\\n",
       "0                   Events:Walks    2017-01-01             50.0   \n",
       "1  Unrestricted Giving:Memorials    2017-02-16             25.0   \n",
       "2  Unrestricted Giving:Memorials    2017-02-28            100.0   \n",
       "3  Unrestricted Giving:Memorials    2017-05-30             50.0   \n",
       "4                   Events:Walks    2017-06-23             50.0   \n",
       "\n",
       "           Gender  Age  Retained       lat       lng  population  density  \n",
       "0  Unknown or N/A  NaN         1  29.74566 -95.82302    129165.0   1316.4  \n",
       "1  Unknown or N/A  NaN         0  29.74566 -95.82302    129165.0   1316.4  \n",
       "2            Male  NaN         1  29.74566 -95.82302    129165.0   1316.4  \n",
       "3          Female  NaN         0  29.74566 -95.82302    129165.0   1316.4  \n",
       "4  Unknown or N/A  NaN         0  29.74566 -95.82302    129165.0   1316.4  "
      ]
     },
     "execution_count": 11,
     "metadata": {},
     "output_type": "execute_result"
    }
   ],
   "source": [
    "quant_df.head()"
   ]
  },
  {
   "cell_type": "markdown",
   "id": "ba39ac73",
   "metadata": {},
   "source": [
    "Map Fund Description column into binary variables"
   ]
  },
  {
   "cell_type": "code",
   "execution_count": 12,
   "id": "35c4fe91",
   "metadata": {
    "scrolled": false
   },
   "outputs": [
    {
     "data": {
      "text/plain": [
       "Events:Walks                                32050\n",
       "Unrestricted Giving:Memorials                4194\n",
       "Individual Donor                             2015\n",
       "Events:Chapter Events (Non-Walk)             1599\n",
       "Unrestricted Giving:Individual Donor         1182\n",
       "Association Direct Mail                       990\n",
       "AI - Comm Third Party                         874\n",
       "Unrestricted Giving:Federated Donations       419\n",
       "Events:Sponsorship                            334\n",
       "Unrestricted Giving:In-Kind Donation          210\n",
       "Restricted: Solicited                         138\n",
       "Unrestricted Giving:DIY                        78\n",
       "Unrestricted Giving:Matching Gifts             64\n",
       "Restricted Giving:Solicited Restricted         41\n",
       "AI - ADMHM                                     35\n",
       "Unrestricted Giving:In-Kind Revenue            32\n",
       "Restricted Giving:Unsolicited restricted       25\n",
       "Restricted Giving:Grants                       21\n",
       "Restricted Giving:Research                     19\n",
       "Unrestricted Giving:Direct Mail                12\n",
       "Major Gifts                                     9\n",
       "Community of Hope                               9\n",
       "Unrestricted Giving:Corporate Donors            5\n",
       "Unsolicited: Restricted                         4\n",
       "Uncategorized                                   4\n",
       "Reimbursment                                    3\n",
       "general merchandise sales                       2\n",
       "Bequest                                         2\n",
       "Name: Fund Description, dtype: int64"
      ]
     },
     "execution_count": 12,
     "metadata": {},
     "output_type": "execute_result"
    }
   ],
   "source": [
    "quant_df['Fund Description'].value_counts()"
   ]
  },
  {
   "cell_type": "code",
   "execution_count": 13,
   "id": "6f616898",
   "metadata": {},
   "outputs": [
    {
     "data": {
      "text/plain": [
       "0                                Events:Walks\n",
       "1               Unrestricted Giving:Memorials\n",
       "2               Unrestricted Giving:Memorials\n",
       "3               Unrestricted Giving:Memorials\n",
       "4                                Events:Walks\n",
       "                         ...                 \n",
       "44374    Unrestricted Giving:Individual Donor\n",
       "44375    Unrestricted Giving:Individual Donor\n",
       "44376    Unrestricted Giving:Individual Donor\n",
       "44377    Unrestricted Giving:Individual Donor\n",
       "44378    Unrestricted Giving:Individual Donor\n",
       "Name: Fund Description, Length: 44379, dtype: object"
      ]
     },
     "execution_count": 13,
     "metadata": {},
     "output_type": "execute_result"
    }
   ],
   "source": [
    "quant_df['Fund Description']"
   ]
  },
  {
   "cell_type": "markdown",
   "id": "d28e0492",
   "metadata": {},
   "source": [
    "### Quick plot of each retained "
   ]
  },
  {
   "cell_type": "code",
   "execution_count": 14,
   "id": "8aa1d8af",
   "metadata": {
    "scrolled": true
   },
   "outputs": [
    {
     "data": {
      "text/plain": [
       "Events:Walks                                32050\n",
       "Unrestricted Giving:Memorials                4194\n",
       "Individual Donor                             2015\n",
       "Events:Chapter Events (Non-Walk)             1599\n",
       "Unrestricted Giving:Individual Donor         1182\n",
       "Association Direct Mail                       990\n",
       "AI - Comm Third Party                         874\n",
       "Unrestricted Giving:Federated Donations       419\n",
       "Events:Sponsorship                            334\n",
       "Unrestricted Giving:In-Kind Donation          210\n",
       "Restricted: Solicited                         138\n",
       "Unrestricted Giving:DIY                        78\n",
       "Unrestricted Giving:Matching Gifts             64\n",
       "Restricted Giving:Solicited Restricted         41\n",
       "AI - ADMHM                                     35\n",
       "Unrestricted Giving:In-Kind Revenue            32\n",
       "Restricted Giving:Unsolicited restricted       25\n",
       "Restricted Giving:Grants                       21\n",
       "Restricted Giving:Research                     19\n",
       "Unrestricted Giving:Direct Mail                12\n",
       "Major Gifts                                     9\n",
       "Community of Hope                               9\n",
       "Unrestricted Giving:Corporate Donors            5\n",
       "Unsolicited: Restricted                         4\n",
       "Uncategorized                                   4\n",
       "Reimbursment                                    3\n",
       "general merchandise sales                       2\n",
       "Bequest                                         2\n",
       "Name: Fund Description, dtype: int64"
      ]
     },
     "execution_count": 14,
     "metadata": {},
     "output_type": "execute_result"
    }
   ],
   "source": [
    "quant_df['Fund Description'].value_counts()"
   ]
  },
  {
   "cell_type": "code",
   "execution_count": 15,
   "id": "99b7c8f0",
   "metadata": {
    "scrolled": true
   },
   "outputs": [
    {
     "data": {
      "text/plain": [
       "<Axes: >"
      ]
     },
     "execution_count": 15,
     "metadata": {},
     "output_type": "execute_result"
    },
    {
     "data": {
      "image/png": "[encoded data removed]",
      "text/plain": [
       "<Figure size 640x480 with 1 Axes>"
      ]
     },
     "metadata": {},
     "output_type": "display_data"
    }
   ],
   "source": [
    "quant_df['Retained'].value_counts().plot.bar()"
   ]
  },
  {
   "cell_type": "code",
   "execution_count": 16,
   "id": "259bc7df",
   "metadata": {},
   "outputs": [],
   "source": [
    "counts = quant_df['Fund Description'].value_counts()"
   ]
  },
  {
   "cell_type": "code",
   "execution_count": 17,
   "id": "3214c3db",
   "metadata": {},
   "outputs": [],
   "source": [
    "retained_counts= quant_df[['Fund Description', 'Retained']].groupby(['Fund Description']).sum().sort_values(by = 'Retained', ascending = False)"
   ]
  },
  {
   "cell_type": "code",
   "execution_count": 18,
   "id": "8fe5c261",
   "metadata": {
    "scrolled": true
   },
   "outputs": [
    {
     "data": {
      "text/html": [
       "<div>\n",
       "<style scoped>\n",
       "    .dataframe tbody tr th:only-of-type {\n",
       "        vertical-align: middle;\n",
       "    }\n",
       "\n",
       "    .dataframe tbody tr th {\n",
       "        vertical-align: top;\n",
       "    }\n",
       "\n",
       "    .dataframe thead th {\n",
       "        text-align: right;\n",
       "    }\n",
       "</style>\n",
       "<table border=\"1\" class=\"dataframe\">\n",
       "  <thead>\n",
       "    <tr style=\"text-align: right;\">\n",
       "      <th></th>\n",
       "      <th>Fund Description</th>\n",
       "      <th>Retained</th>\n",
       "    </tr>\n",
       "  </thead>\n",
       "  <tbody>\n",
       "    <tr>\n",
       "      <th>Events:Walks</th>\n",
       "      <td>32050</td>\n",
       "      <td>14546</td>\n",
       "    </tr>\n",
       "    <tr>\n",
       "      <th>Unrestricted Giving:Memorials</th>\n",
       "      <td>4194</td>\n",
       "      <td>844</td>\n",
       "    </tr>\n",
       "    <tr>\n",
       "      <th>Individual Donor</th>\n",
       "      <td>2015</td>\n",
       "      <td>1026</td>\n",
       "    </tr>\n",
       "    <tr>\n",
       "      <th>Events:Chapter Events (Non-Walk)</th>\n",
       "      <td>1599</td>\n",
       "      <td>749</td>\n",
       "    </tr>\n",
       "    <tr>\n",
       "      <th>Unrestricted Giving:Individual Donor</th>\n",
       "      <td>1182</td>\n",
       "      <td>349</td>\n",
       "    </tr>\n",
       "    <tr>\n",
       "      <th>Association Direct Mail</th>\n",
       "      <td>990</td>\n",
       "      <td>880</td>\n",
       "    </tr>\n",
       "    <tr>\n",
       "      <th>AI - Comm Third Party</th>\n",
       "      <td>874</td>\n",
       "      <td>301</td>\n",
       "    </tr>\n",
       "    <tr>\n",
       "      <th>Unrestricted Giving:Federated Donations</th>\n",
       "      <td>419</td>\n",
       "      <td>301</td>\n",
       "    </tr>\n",
       "    <tr>\n",
       "      <th>Events:Sponsorship</th>\n",
       "      <td>334</td>\n",
       "      <td>243</td>\n",
       "    </tr>\n",
       "    <tr>\n",
       "      <th>Unrestricted Giving:In-Kind Donation</th>\n",
       "      <td>210</td>\n",
       "      <td>67</td>\n",
       "    </tr>\n",
       "    <tr>\n",
       "      <th>Restricted: Solicited</th>\n",
       "      <td>138</td>\n",
       "      <td>96</td>\n",
       "    </tr>\n",
       "    <tr>\n",
       "      <th>Unrestricted Giving:DIY</th>\n",
       "      <td>78</td>\n",
       "      <td>30</td>\n",
       "    </tr>\n",
       "    <tr>\n",
       "      <th>Unrestricted Giving:Matching Gifts</th>\n",
       "      <td>64</td>\n",
       "      <td>32</td>\n",
       "    </tr>\n",
       "    <tr>\n",
       "      <th>Restricted Giving:Solicited Restricted</th>\n",
       "      <td>41</td>\n",
       "      <td>31</td>\n",
       "    </tr>\n",
       "    <tr>\n",
       "      <th>AI - ADMHM</th>\n",
       "      <td>35</td>\n",
       "      <td>27</td>\n",
       "    </tr>\n",
       "    <tr>\n",
       "      <th>Unrestricted Giving:In-Kind Revenue</th>\n",
       "      <td>32</td>\n",
       "      <td>8</td>\n",
       "    </tr>\n",
       "    <tr>\n",
       "      <th>Restricted Giving:Unsolicited restricted</th>\n",
       "      <td>25</td>\n",
       "      <td>19</td>\n",
       "    </tr>\n",
       "    <tr>\n",
       "      <th>Restricted Giving:Grants</th>\n",
       "      <td>21</td>\n",
       "      <td>14</td>\n",
       "    </tr>\n",
       "    <tr>\n",
       "      <th>Restricted Giving:Research</th>\n",
       "      <td>19</td>\n",
       "      <td>8</td>\n",
       "    </tr>\n",
       "    <tr>\n",
       "      <th>Unrestricted Giving:Direct Mail</th>\n",
       "      <td>12</td>\n",
       "      <td>12</td>\n",
       "    </tr>\n",
       "    <tr>\n",
       "      <th>Major Gifts</th>\n",
       "      <td>9</td>\n",
       "      <td>6</td>\n",
       "    </tr>\n",
       "    <tr>\n",
       "      <th>Community of Hope</th>\n",
       "      <td>9</td>\n",
       "      <td>1</td>\n",
       "    </tr>\n",
       "    <tr>\n",
       "      <th>Unrestricted Giving:Corporate Donors</th>\n",
       "      <td>5</td>\n",
       "      <td>2</td>\n",
       "    </tr>\n",
       "    <tr>\n",
       "      <th>Unsolicited: Restricted</th>\n",
       "      <td>4</td>\n",
       "      <td>3</td>\n",
       "    </tr>\n",
       "    <tr>\n",
       "      <th>Uncategorized</th>\n",
       "      <td>4</td>\n",
       "      <td>2</td>\n",
       "    </tr>\n",
       "    <tr>\n",
       "      <th>Reimbursment</th>\n",
       "      <td>3</td>\n",
       "      <td>2</td>\n",
       "    </tr>\n",
       "    <tr>\n",
       "      <th>general merchandise sales</th>\n",
       "      <td>2</td>\n",
       "      <td>1</td>\n",
       "    </tr>\n",
       "    <tr>\n",
       "      <th>Bequest</th>\n",
       "      <td>2</td>\n",
       "      <td>1</td>\n",
       "    </tr>\n",
       "  </tbody>\n",
       "</table>\n",
       "</div>"
      ],
      "text/plain": [
       "                                          Fund Description  Retained\n",
       "Events:Walks                                         32050     14546\n",
       "Unrestricted Giving:Memorials                         4194       844\n",
       "Individual Donor                                      2015      1026\n",
       "Events:Chapter Events (Non-Walk)                      1599       749\n",
       "Unrestricted Giving:Individual Donor                  1182       349\n",
       "Association Direct Mail                                990       880\n",
       "AI - Comm Third Party                                  874       301\n",
       "Unrestricted Giving:Federated Donations                419       301\n",
       "Events:Sponsorship                                     334       243\n",
       "Unrestricted Giving:In-Kind Donation                   210        67\n",
       "Restricted: Solicited                                  138        96\n",
       "Unrestricted Giving:DIY                                 78        30\n",
       "Unrestricted Giving:Matching Gifts                      64        32\n",
       "Restricted Giving:Solicited Restricted                  41        31\n",
       "AI - ADMHM                                              35        27\n",
       "Unrestricted Giving:In-Kind Revenue                     32         8\n",
       "Restricted Giving:Unsolicited restricted                25        19\n",
       "Restricted Giving:Grants                                21        14\n",
       "Restricted Giving:Research                              19         8\n",
       "Unrestricted Giving:Direct Mail                         12        12\n",
       "Major Gifts                                              9         6\n",
       "Community of Hope                                        9         1\n",
       "Unrestricted Giving:Corporate Donors                     5         2\n",
       "Unsolicited: Restricted                                  4         3\n",
       "Uncategorized                                            4         2\n",
       "Reimbursment                                             3         2\n",
       "general merchandise sales                                2         1\n",
       "Bequest                                                  2         1"
      ]
     },
     "execution_count": 18,
     "metadata": {},
     "output_type": "execute_result"
    }
   ],
   "source": [
    "pd.merge(counts, retained_counts, right_index=True, left_index = True)"
   ]
  },
  {
   "cell_type": "code",
   "execution_count": 29,
   "id": "c24209b5",
   "metadata": {},
   "outputs": [
    {
     "data": {
      "image/png": "[encoded data removed]",
      "text/plain": [
       "<Figure size 640x480 with 1 Axes>"
      ]
     },
     "metadata": {},
     "output_type": "display_data"
    }
   ],
   "source": [
    "ax = quant_df.groupby('Fund Description')['Retained'].sum().sort_values().plot(kind='bar')"
   ]
  },
  {
   "cell_type": "code",
   "execution_count": 388,
   "id": "c1ec4f0c",
   "metadata": {
    "scrolled": true
   },
   "outputs": [
    {
     "data": {
      "image/png": "[encoded data removed]",
      "text/plain": [
       "<Figure size 1800x900 with 28 Axes>"
      ]
     },
     "metadata": {},
     "output_type": "display_data"
    }
   ],
   "source": [
    "# Plotting Retained for each column\n",
    "fig, axes = plt.subplots(6,5, figsize=(18,9))\n",
    "fig.delaxes(axes[5][4])\n",
    "fig.delaxes(axes[5][3])\n",
    "for i, fund_type in enumerate(counts.index):\n",
    "    ax = axes[i//5, i%5]\n",
    "    retained = quant_df[quant_df['Fund Description'] == fund_type]['Retained'].value_counts()\n",
    "    if len(retained.index)==1:\n",
    "        retained.loc[0] = 0\n",
    "    retained.sort_index(inplace = True)\n",
    "    ax.bar(retained.index, retained.values)\n",
    "    ax.set_xticks(retained.index)\n",
    "    ax.set_xticklabels(['Not Retained', 'Retained'])\n",
    "    ax.set_ylabel('Count')\n",
    "    ax.set_title(f'{fund_type}')  \n",
    "plt.tight_layout()\n",
    "plt.show()"
   ]
  },
  {
   "cell_type": "code",
   "execution_count": 222,
   "id": "3a2c2ccc",
   "metadata": {
    "scrolled": true
   },
   "outputs": [
    {
     "data": {
      "text/plain": [
       "Events:Walks                                32050\n",
       "Unrestricted Giving:Memorials                4194\n",
       "Individual Donor                             2015\n",
       "Events:Chapter Events (Non-Walk)             1599\n",
       "Unrestricted Giving:Individual Donor         1182\n",
       "Association Direct Mail                       990\n",
       "AI - Comm Third Party                         874\n",
       "Unrestricted Giving:Federated Donations       419\n",
       "Events:Sponsorship                            334\n",
       "Unrestricted Giving:In-Kind Donation          210\n",
       "Restricted: Solicited                         138\n",
       "Unrestricted Giving:DIY                        78\n",
       "Unrestricted Giving:Matching Gifts             64\n",
       "Restricted Giving:Solicited Restricted         41\n",
       "AI - ADMHM                                     35\n",
       "Unrestricted Giving:In-Kind Revenue            32\n",
       "Restricted Giving:Unsolicited restricted       25\n",
       "Restricted Giving:Grants                       21\n",
       "Restricted Giving:Research                     19\n",
       "Unrestricted Giving:Direct Mail                12\n",
       "Major Gifts                                     9\n",
       "Community of Hope                               9\n",
       "Unrestricted Giving:Corporate Donors            5\n",
       "Unsolicited: Restricted                         4\n",
       "Uncategorized                                   4\n",
       "Reimbursment                                    3\n",
       "general merchandise sales                       2\n",
       "Bequest                                         2\n",
       "Name: Fund Description, dtype: int64"
      ]
     },
     "execution_count": 222,
     "metadata": {},
     "output_type": "execute_result"
    }
   ],
   "source": [
    "counts"
   ]
  },
  {
   "cell_type": "code",
   "execution_count": 223,
   "id": "1bfa2552",
   "metadata": {},
   "outputs": [],
   "source": [
    "dummies = pd.get_dummies(quant_df['Fund Description'])"
   ]
  },
  {
   "cell_type": "code",
   "execution_count": 224,
   "id": "f1274818",
   "metadata": {},
   "outputs": [],
   "source": [
    "quant_df['Walk'] = dummies['Events:Walks']\n",
    "quant_df['Memorials'] = dummies['Unrestricted Giving:Memorials']\n",
    "quant_df['Chapter'] = dummies['Events:Chapter Events (Non-Walk)']\n",
    "quant_df['Individual Donor'] = dummies['Individual Donor'] + dummies['Unrestricted Giving:Individual Donor']\n",
    "quant_df['Direct Mail'] = dummies['Association Direct Mail']+dummies['Unrestricted Giving:Direct Mail']\n",
    "quant_df['Comm Third Party'] = dummies['AI - Comm Third Party']\n",
    "quant_df['Federated Donations'] = dummies['Unrestricted Giving:Federated Donations']\n",
    "quant_df['Sponsorship'] = dummies['Events:Sponsorship']\n",
    "quant_df.drop('Fund Description', axis = 1, inplace = True)"
   ]
  },
  {
   "cell_type": "code",
   "execution_count": 225,
   "id": "3b8854e9",
   "metadata": {},
   "outputs": [],
   "source": [
    "quant_df.dropna(axis = 0, subset = 'Gender')\n",
    "quant_df['Gender'].fillna('Unknown or N/A', inplace=True)\n",
    "quant_df['Gender']= quant_df['Gender'].map({'Female': 1, 'Unknown or N/A': 0, 'Male': -1,  })"
   ]
  },
  {
   "cell_type": "code",
   "execution_count": 226,
   "id": "b28c2c9b",
   "metadata": {
    "scrolled": true
   },
   "outputs": [
    {
     "data": {
      "text/html": [
       "<div>\n",
       "<style scoped>\n",
       "    .dataframe tbody tr th:only-of-type {\n",
       "        vertical-align: middle;\n",
       "    }\n",
       "\n",
       "    .dataframe tbody tr th {\n",
       "        vertical-align: top;\n",
       "    }\n",
       "\n",
       "    .dataframe thead th {\n",
       "        text-align: right;\n",
       "    }\n",
       "</style>\n",
       "<table border=\"1\" class=\"dataframe\">\n",
       "  <thead>\n",
       "    <tr style=\"text-align: right;\">\n",
       "      <th></th>\n",
       "      <th>Received Date</th>\n",
       "      <th>Donation Amount</th>\n",
       "      <th>Gender</th>\n",
       "      <th>Age</th>\n",
       "      <th>Retained</th>\n",
       "      <th>lat</th>\n",
       "      <th>lng</th>\n",
       "      <th>population</th>\n",
       "      <th>density</th>\n",
       "      <th>Walk</th>\n",
       "      <th>Memorials</th>\n",
       "      <th>Chapter</th>\n",
       "      <th>Individual Donor</th>\n",
       "      <th>Direct Mail</th>\n",
       "      <th>Comm Third Party</th>\n",
       "      <th>Federated Donations</th>\n",
       "      <th>Sponsorship</th>\n",
       "    </tr>\n",
       "  </thead>\n",
       "  <tbody>\n",
       "    <tr>\n",
       "      <th>0</th>\n",
       "      <td>2017-01-01</td>\n",
       "      <td>50.00</td>\n",
       "      <td>0</td>\n",
       "      <td>NaN</td>\n",
       "      <td>1</td>\n",
       "      <td>29.74566</td>\n",
       "      <td>-95.82302</td>\n",
       "      <td>129165.0</td>\n",
       "      <td>1316.4</td>\n",
       "      <td>1</td>\n",
       "      <td>0</td>\n",
       "      <td>0</td>\n",
       "      <td>0</td>\n",
       "      <td>0</td>\n",
       "      <td>0</td>\n",
       "      <td>0</td>\n",
       "      <td>0</td>\n",
       "    </tr>\n",
       "    <tr>\n",
       "      <th>1</th>\n",
       "      <td>2017-02-16</td>\n",
       "      <td>25.00</td>\n",
       "      <td>0</td>\n",
       "      <td>NaN</td>\n",
       "      <td>0</td>\n",
       "      <td>29.74566</td>\n",
       "      <td>-95.82302</td>\n",
       "      <td>129165.0</td>\n",
       "      <td>1316.4</td>\n",
       "      <td>0</td>\n",
       "      <td>1</td>\n",
       "      <td>0</td>\n",
       "      <td>0</td>\n",
       "      <td>0</td>\n",
       "      <td>0</td>\n",
       "      <td>0</td>\n",
       "      <td>0</td>\n",
       "    </tr>\n",
       "    <tr>\n",
       "      <th>2</th>\n",
       "      <td>2017-02-28</td>\n",
       "      <td>100.00</td>\n",
       "      <td>-1</td>\n",
       "      <td>NaN</td>\n",
       "      <td>1</td>\n",
       "      <td>29.74566</td>\n",
       "      <td>-95.82302</td>\n",
       "      <td>129165.0</td>\n",
       "      <td>1316.4</td>\n",
       "      <td>0</td>\n",
       "      <td>1</td>\n",
       "      <td>0</td>\n",
       "      <td>0</td>\n",
       "      <td>0</td>\n",
       "      <td>0</td>\n",
       "      <td>0</td>\n",
       "      <td>0</td>\n",
       "    </tr>\n",
       "    <tr>\n",
       "      <th>3</th>\n",
       "      <td>2017-05-30</td>\n",
       "      <td>50.00</td>\n",
       "      <td>1</td>\n",
       "      <td>NaN</td>\n",
       "      <td>0</td>\n",
       "      <td>29.74566</td>\n",
       "      <td>-95.82302</td>\n",
       "      <td>129165.0</td>\n",
       "      <td>1316.4</td>\n",
       "      <td>0</td>\n",
       "      <td>1</td>\n",
       "      <td>0</td>\n",
       "      <td>0</td>\n",
       "      <td>0</td>\n",
       "      <td>0</td>\n",
       "      <td>0</td>\n",
       "      <td>0</td>\n",
       "    </tr>\n",
       "    <tr>\n",
       "      <th>4</th>\n",
       "      <td>2017-06-23</td>\n",
       "      <td>50.00</td>\n",
       "      <td>0</td>\n",
       "      <td>NaN</td>\n",
       "      <td>0</td>\n",
       "      <td>29.74566</td>\n",
       "      <td>-95.82302</td>\n",
       "      <td>129165.0</td>\n",
       "      <td>1316.4</td>\n",
       "      <td>1</td>\n",
       "      <td>0</td>\n",
       "      <td>0</td>\n",
       "      <td>0</td>\n",
       "      <td>0</td>\n",
       "      <td>0</td>\n",
       "      <td>0</td>\n",
       "      <td>0</td>\n",
       "    </tr>\n",
       "    <tr>\n",
       "      <th>...</th>\n",
       "      <td>...</td>\n",
       "      <td>...</td>\n",
       "      <td>...</td>\n",
       "      <td>...</td>\n",
       "      <td>...</td>\n",
       "      <td>...</td>\n",
       "      <td>...</td>\n",
       "      <td>...</td>\n",
       "      <td>...</td>\n",
       "      <td>...</td>\n",
       "      <td>...</td>\n",
       "      <td>...</td>\n",
       "      <td>...</td>\n",
       "      <td>...</td>\n",
       "      <td>...</td>\n",
       "      <td>...</td>\n",
       "      <td>...</td>\n",
       "    </tr>\n",
       "    <tr>\n",
       "      <th>44374</th>\n",
       "      <td>2022-12-16</td>\n",
       "      <td>463.60</td>\n",
       "      <td>0</td>\n",
       "      <td>NaN</td>\n",
       "      <td>0</td>\n",
       "      <td>61.90744</td>\n",
       "      <td>-156.85203</td>\n",
       "      <td>12360.0</td>\n",
       "      <td>230.8</td>\n",
       "      <td>0</td>\n",
       "      <td>0</td>\n",
       "      <td>0</td>\n",
       "      <td>1</td>\n",
       "      <td>0</td>\n",
       "      <td>0</td>\n",
       "      <td>0</td>\n",
       "      <td>0</td>\n",
       "    </tr>\n",
       "    <tr>\n",
       "      <th>44375</th>\n",
       "      <td>2022-12-17</td>\n",
       "      <td>25.00</td>\n",
       "      <td>0</td>\n",
       "      <td>NaN</td>\n",
       "      <td>0</td>\n",
       "      <td>39.99813</td>\n",
       "      <td>-75.27388</td>\n",
       "      <td>15107.0</td>\n",
       "      <td>1671.3</td>\n",
       "      <td>0</td>\n",
       "      <td>0</td>\n",
       "      <td>0</td>\n",
       "      <td>1</td>\n",
       "      <td>0</td>\n",
       "      <td>0</td>\n",
       "      <td>0</td>\n",
       "      <td>0</td>\n",
       "    </tr>\n",
       "    <tr>\n",
       "      <th>44376</th>\n",
       "      <td>2022-12-19</td>\n",
       "      <td>51.69</td>\n",
       "      <td>0</td>\n",
       "      <td>NaN</td>\n",
       "      <td>0</td>\n",
       "      <td>34.07635</td>\n",
       "      <td>-89.89364</td>\n",
       "      <td>2130.0</td>\n",
       "      <td>8.0</td>\n",
       "      <td>0</td>\n",
       "      <td>0</td>\n",
       "      <td>0</td>\n",
       "      <td>1</td>\n",
       "      <td>0</td>\n",
       "      <td>0</td>\n",
       "      <td>0</td>\n",
       "      <td>0</td>\n",
       "    </tr>\n",
       "    <tr>\n",
       "      <th>44377</th>\n",
       "      <td>2022-12-21</td>\n",
       "      <td>103.18</td>\n",
       "      <td>0</td>\n",
       "      <td>NaN</td>\n",
       "      <td>0</td>\n",
       "      <td>42.94515</td>\n",
       "      <td>-85.61360</td>\n",
       "      <td>33651.0</td>\n",
       "      <td>1784.7</td>\n",
       "      <td>0</td>\n",
       "      <td>0</td>\n",
       "      <td>0</td>\n",
       "      <td>1</td>\n",
       "      <td>0</td>\n",
       "      <td>0</td>\n",
       "      <td>0</td>\n",
       "      <td>0</td>\n",
       "    </tr>\n",
       "    <tr>\n",
       "      <th>44378</th>\n",
       "      <td>2022-12-29</td>\n",
       "      <td>250.00</td>\n",
       "      <td>0</td>\n",
       "      <td>NaN</td>\n",
       "      <td>0</td>\n",
       "      <td>36.81158</td>\n",
       "      <td>-76.36986</td>\n",
       "      <td>25021.0</td>\n",
       "      <td>1251.2</td>\n",
       "      <td>0</td>\n",
       "      <td>0</td>\n",
       "      <td>0</td>\n",
       "      <td>1</td>\n",
       "      <td>0</td>\n",
       "      <td>0</td>\n",
       "      <td>0</td>\n",
       "      <td>0</td>\n",
       "    </tr>\n",
       "  </tbody>\n",
       "</table>\n",
       "<p>44379 rows × 17 columns</p>\n",
       "</div>"
      ],
      "text/plain": [
       "      Received Date  Donation Amount  Gender  Age  Retained       lat  \\\n",
       "0        2017-01-01            50.00       0  NaN         1  29.74566   \n",
       "1        2017-02-16            25.00       0  NaN         0  29.74566   \n",
       "2        2017-02-28           100.00      -1  NaN         1  29.74566   \n",
       "3        2017-05-30            50.00       1  NaN         0  29.74566   \n",
       "4        2017-06-23            50.00       0  NaN         0  29.74566   \n",
       "...             ...              ...     ...  ...       ...       ...   \n",
       "44374    2022-12-16           463.60       0  NaN         0  61.90744   \n",
       "44375    2022-12-17            25.00       0  NaN         0  39.99813   \n",
       "44376    2022-12-19            51.69       0  NaN         0  34.07635   \n",
       "44377    2022-12-21           103.18       0  NaN         0  42.94515   \n",
       "44378    2022-12-29           250.00       0  NaN         0  36.81158   \n",
       "\n",
       "             lng  population  density  Walk  Memorials  Chapter  \\\n",
       "0      -95.82302    129165.0   1316.4     1          0        0   \n",
       "1      -95.82302    129165.0   1316.4     0          1        0   \n",
       "2      -95.82302    129165.0   1316.4     0          1        0   \n",
       "3      -95.82302    129165.0   1316.4     0          1        0   \n",
       "4      -95.82302    129165.0   1316.4     1          0        0   \n",
       "...          ...         ...      ...   ...        ...      ...   \n",
       "44374 -156.85203     12360.0    230.8     0          0        0   \n",
       "44375  -75.27388     15107.0   1671.3     0          0        0   \n",
       "44376  -89.89364      2130.0      8.0     0          0        0   \n",
       "44377  -85.61360     33651.0   1784.7     0          0        0   \n",
       "44378  -76.36986     25021.0   1251.2     0          0        0   \n",
       "\n",
       "       Individual Donor  Direct Mail  Comm Third Party  Federated Donations  \\\n",
       "0                     0            0                 0                    0   \n",
       "1                     0            0                 0                    0   \n",
       "2                     0            0                 0                    0   \n",
       "3                     0            0                 0                    0   \n",
       "4                     0            0                 0                    0   \n",
       "...                 ...          ...               ...                  ...   \n",
       "44374                 1            0                 0                    0   \n",
       "44375                 1            0                 0                    0   \n",
       "44376                 1            0                 0                    0   \n",
       "44377                 1            0                 0                    0   \n",
       "44378                 1            0                 0                    0   \n",
       "\n",
       "       Sponsorship  \n",
       "0                0  \n",
       "1                0  \n",
       "2                0  \n",
       "3                0  \n",
       "4                0  \n",
       "...            ...  \n",
       "44374            0  \n",
       "44375            0  \n",
       "44376            0  \n",
       "44377            0  \n",
       "44378            0  \n",
       "\n",
       "[44379 rows x 17 columns]"
      ]
     },
     "execution_count": 226,
     "metadata": {},
     "output_type": "execute_result"
    }
   ],
   "source": [
    "quant_df"
   ]
  },
  {
   "cell_type": "code",
   "execution_count": 227,
   "id": "abbbf243",
   "metadata": {},
   "outputs": [],
   "source": [
    "quant_df['Quarter'] = quant_df['Received Date'].dt.quarter\n",
    "quant_df.drop(['Received Date'], axis = 1, inplace= True)"
   ]
  },
  {
   "cell_type": "code",
   "execution_count": 228,
   "id": "f7dcfa80",
   "metadata": {
    "scrolled": true
   },
   "outputs": [
    {
     "name": "stdout",
     "output_type": "stream",
     "text": [
      "<class 'pandas.core.frame.DataFrame'>\n",
      "Int64Index: 44379 entries, 0 to 44378\n",
      "Data columns (total 17 columns):\n",
      " #   Column               Non-Null Count  Dtype  \n",
      "---  ------               --------------  -----  \n",
      " 0   Donation Amount      44379 non-null  float64\n",
      " 1   Gender               44379 non-null  int64  \n",
      " 2   Age                  802 non-null    float64\n",
      " 3   Retained             44379 non-null  int64  \n",
      " 4   lat                  44379 non-null  float64\n",
      " 5   lng                  44379 non-null  float64\n",
      " 6   population           44379 non-null  float64\n",
      " 7   density              44379 non-null  float64\n",
      " 8   Walk                 44379 non-null  uint8  \n",
      " 9   Memorials            44379 non-null  uint8  \n",
      " 10  Chapter              44379 non-null  uint8  \n",
      " 11  Individual Donor     44379 non-null  uint8  \n",
      " 12  Direct Mail          44379 non-null  uint8  \n",
      " 13  Comm Third Party     44379 non-null  uint8  \n",
      " 14  Federated Donations  44379 non-null  uint8  \n",
      " 15  Sponsorship          44379 non-null  uint8  \n",
      " 16  Quarter              44379 non-null  int64  \n",
      "dtypes: float64(6), int64(3), uint8(8)\n",
      "memory usage: 3.7 MB\n"
     ]
    }
   ],
   "source": [
    "quant_df.info()"
   ]
  },
  {
   "cell_type": "code",
   "execution_count": 331,
   "id": "ea258951",
   "metadata": {
    "scrolled": true
   },
   "outputs": [
    {
     "data": {
      "text/plain": [
       "Text(0.5, 1.0, 'Counts of Donor Retention')"
      ]
     },
     "execution_count": 331,
     "metadata": {},
     "output_type": "execute_result"
    },
    {
     "data": {
      "image/png": "[encoded data removed]",
      "text/plain": [
       "<Figure size 640x480 with 1 Axes>"
      ]
     },
     "metadata": {},
     "output_type": "display_data"
    }
   ],
   "source": [
    "ax = quant_df['Retained'].value_counts().plot.bar()\n",
    "ax.set_xticks((0,1), (\"Not Retained\", \"Retained\"), rotation = 0)\n",
    "ax.set_ylabel('Count')\n",
    "ax.set_title('Counts of Donor Retention')"
   ]
  },
  {
   "cell_type": "code",
   "execution_count": 230,
   "id": "904ad8db",
   "metadata": {
    "scrolled": false
   },
   "outputs": [
    {
     "data": {
      "text/plain": [
       " 0    40702\n",
       " 1     2293\n",
       "-1     1384\n",
       "Name: Gender, dtype: int64"
      ]
     },
     "execution_count": 230,
     "metadata": {},
     "output_type": "execute_result"
    }
   ],
   "source": [
    "quant_df['Gender'].value_counts()"
   ]
  },
  {
   "cell_type": "markdown",
   "id": "14a79e68",
   "metadata": {},
   "source": [
    "# Models"
   ]
  },
  {
   "cell_type": "markdown",
   "id": "4e0bb95e",
   "metadata": {},
   "source": [
    "### Initialize Tester"
   ]
  },
  {
   "cell_type": "code",
   "execution_count": 238,
   "id": "48d24b26",
   "metadata": {},
   "outputs": [],
   "source": [
    "tester = model_tester(quant_df.drop('Age', axis=1), 'Retained')"
   ]
  },
  {
   "cell_type": "markdown",
   "id": "a529916d",
   "metadata": {},
   "source": [
    "### Logistic Regression"
   ]
  },
  {
   "cell_type": "code",
   "execution_count": 268,
   "id": "8541eb98",
   "metadata": {
    "scrolled": true
   },
   "outputs": [
    {
     "name": "stdout",
     "output_type": "stream",
     "text": [
      "Index(['Donation Amount', 'Gender', 'lat', 'lng', 'population', 'density',\n",
      "       'Walk', 'Memorials', 'Chapter', 'Individual Donor', 'Direct Mail',\n",
      "       'Comm Third Party', 'Federated Donations', 'Sponsorship', 'Quarter'],\n",
      "      dtype='object')\n",
      "Logistic Regression model performance\n",
      "Confusion Matrix:\n",
      " [[3280 1692]\n",
      " [2322 1582]]\n",
      "Accuracy: 0.5477692654348806\n",
      "Precision: 0.5343530770601389\n",
      "Recall: 0.5324598489244688\n",
      "F1 Score: 0.530590470862174\n",
      "ROC-AUC: 0.5479591192233887\n"
     ]
    },
    {
     "data": {
      "image/png": "[encoded data removed]",
      "text/plain": [
       "<Figure size 640x480 with 1 Axes>"
      ]
     },
     "metadata": {},
     "output_type": "display_data"
    }
   ],
   "source": [
    "# Logistic Regression Model\n",
    "from sklearn.linear_model import LogisticRegression\n",
    "LR_model = LogisticRegression(class_weight = 'balanced', max_iter = 3000)\n",
    "tester.test_model(LR_model, \"Logistic Regression\")"
   ]
  },
  {
   "cell_type": "code",
   "execution_count": 240,
   "id": "9d65628c",
   "metadata": {
    "scrolled": false
   },
   "outputs": [
    {
     "data": {
      "text/html": [
       "<div>\n",
       "<style scoped>\n",
       "    .dataframe tbody tr th:only-of-type {\n",
       "        vertical-align: middle;\n",
       "    }\n",
       "\n",
       "    .dataframe tbody tr th {\n",
       "        vertical-align: top;\n",
       "    }\n",
       "\n",
       "    .dataframe thead th {\n",
       "        text-align: right;\n",
       "    }\n",
       "</style>\n",
       "<table border=\"1\" class=\"dataframe\">\n",
       "  <thead>\n",
       "    <tr style=\"text-align: right;\">\n",
       "      <th></th>\n",
       "      <th>Donation Amount</th>\n",
       "      <th>Gender</th>\n",
       "      <th>lat</th>\n",
       "      <th>lng</th>\n",
       "      <th>population</th>\n",
       "      <th>density</th>\n",
       "      <th>Walk</th>\n",
       "      <th>Memorials</th>\n",
       "      <th>Chapter</th>\n",
       "      <th>Individual Donor</th>\n",
       "      <th>Direct Mail</th>\n",
       "      <th>Comm Third Party</th>\n",
       "      <th>Federated Donations</th>\n",
       "      <th>Sponsorship</th>\n",
       "      <th>Quarter</th>\n",
       "    </tr>\n",
       "  </thead>\n",
       "  <tbody>\n",
       "    <tr>\n",
       "      <th>43936</th>\n",
       "      <td>25.00</td>\n",
       "      <td>0</td>\n",
       "      <td>41.08792</td>\n",
       "      <td>-73.54351</td>\n",
       "      <td>21604.0</td>\n",
       "      <td>1644.8</td>\n",
       "      <td>1</td>\n",
       "      <td>0</td>\n",
       "      <td>0</td>\n",
       "      <td>0</td>\n",
       "      <td>0</td>\n",
       "      <td>0</td>\n",
       "      <td>0</td>\n",
       "      <td>0</td>\n",
       "      <td>4</td>\n",
       "    </tr>\n",
       "    <tr>\n",
       "      <th>4194</th>\n",
       "      <td>100.00</td>\n",
       "      <td>1</td>\n",
       "      <td>32.97382</td>\n",
       "      <td>-96.74160</td>\n",
       "      <td>52420.0</td>\n",
       "      <td>1789.2</td>\n",
       "      <td>1</td>\n",
       "      <td>0</td>\n",
       "      <td>0</td>\n",
       "      <td>0</td>\n",
       "      <td>0</td>\n",
       "      <td>0</td>\n",
       "      <td>0</td>\n",
       "      <td>0</td>\n",
       "      <td>2</td>\n",
       "    </tr>\n",
       "    <tr>\n",
       "      <th>19667</th>\n",
       "      <td>51.43</td>\n",
       "      <td>0</td>\n",
       "      <td>31.33872</td>\n",
       "      <td>-94.83467</td>\n",
       "      <td>34663.0</td>\n",
       "      <td>83.4</td>\n",
       "      <td>0</td>\n",
       "      <td>1</td>\n",
       "      <td>0</td>\n",
       "      <td>0</td>\n",
       "      <td>0</td>\n",
       "      <td>0</td>\n",
       "      <td>0</td>\n",
       "      <td>0</td>\n",
       "      <td>1</td>\n",
       "    </tr>\n",
       "    <tr>\n",
       "      <th>43927</th>\n",
       "      <td>100.00</td>\n",
       "      <td>0</td>\n",
       "      <td>38.33528</td>\n",
       "      <td>-85.69689</td>\n",
       "      <td>47894.0</td>\n",
       "      <td>544.9</td>\n",
       "      <td>1</td>\n",
       "      <td>0</td>\n",
       "      <td>0</td>\n",
       "      <td>0</td>\n",
       "      <td>0</td>\n",
       "      <td>0</td>\n",
       "      <td>0</td>\n",
       "      <td>0</td>\n",
       "      <td>4</td>\n",
       "    </tr>\n",
       "    <tr>\n",
       "      <th>17028</th>\n",
       "      <td>50.00</td>\n",
       "      <td>0</td>\n",
       "      <td>34.01584</td>\n",
       "      <td>-118.49251</td>\n",
       "      <td>7482.0</td>\n",
       "      <td>3828.7</td>\n",
       "      <td>0</td>\n",
       "      <td>1</td>\n",
       "      <td>0</td>\n",
       "      <td>0</td>\n",
       "      <td>0</td>\n",
       "      <td>0</td>\n",
       "      <td>0</td>\n",
       "      <td>0</td>\n",
       "      <td>1</td>\n",
       "    </tr>\n",
       "  </tbody>\n",
       "</table>\n",
       "</div>"
      ],
      "text/plain": [
       "       Donation Amount  Gender       lat        lng  population  density  \\\n",
       "43936            25.00       0  41.08792  -73.54351     21604.0   1644.8   \n",
       "4194            100.00       1  32.97382  -96.74160     52420.0   1789.2   \n",
       "19667            51.43       0  31.33872  -94.83467     34663.0     83.4   \n",
       "43927           100.00       0  38.33528  -85.69689     47894.0    544.9   \n",
       "17028            50.00       0  34.01584 -118.49251      7482.0   3828.7   \n",
       "\n",
       "       Walk  Memorials  Chapter  Individual Donor  Direct Mail  \\\n",
       "43936     1          0        0                 0            0   \n",
       "4194      1          0        0                 0            0   \n",
       "19667     0          1        0                 0            0   \n",
       "43927     1          0        0                 0            0   \n",
       "17028     0          1        0                 0            0   \n",
       "\n",
       "       Comm Third Party  Federated Donations  Sponsorship  Quarter  \n",
       "43936                 0                    0            0        4  \n",
       "4194                  0                    0            0        2  \n",
       "19667                 0                    0            0        1  \n",
       "43927                 0                    0            0        4  \n",
       "17028                 0                    0            0        1  "
      ]
     },
     "execution_count": 240,
     "metadata": {},
     "output_type": "execute_result"
    }
   ],
   "source": [
    "rows = tester.X_test.head()\n",
    "rows"
   ]
  },
  {
   "cell_type": "code",
   "execution_count": 241,
   "id": "09f910af",
   "metadata": {
    "scrolled": false
   },
   "outputs": [
    {
     "data": {
      "text/plain": [
       "array([[0.51429007, 0.48570993],\n",
       "       [0.49499524, 0.50500476],\n",
       "       [0.50356549, 0.49643451],\n",
       "       [0.49220129, 0.50779871],\n",
       "       [0.54157002, 0.45842998]])"
      ]
     },
     "execution_count": 241,
     "metadata": {},
     "output_type": "execute_result"
    }
   ],
   "source": [
    "tester.predict(rows, \"Logistic Regression\")"
   ]
  },
  {
   "cell_type": "code",
   "execution_count": 242,
   "id": "a15bf8ef",
   "metadata": {},
   "outputs": [
    {
     "data": {
      "text/plain": [
       "43936    0\n",
       "4194     0\n",
       "19667    0\n",
       "43927    0\n",
       "17028    0\n",
       "Name: Retained, dtype: int64"
      ]
     },
     "execution_count": 242,
     "metadata": {},
     "output_type": "execute_result"
    }
   ],
   "source": [
    "tester.y_test.head()"
   ]
  },
  {
   "cell_type": "code",
   "execution_count": 243,
   "id": "0a21509d",
   "metadata": {
    "scrolled": false
   },
   "outputs": [
    {
     "name": "stdout",
     "output_type": "stream",
     "text": [
      "Logistic Regression model without Donation Amount trained. (1/15)\n",
      "Logistic Regression model without Gender trained. (2/15)\n",
      "Logistic Regression model without lat trained. (3/15)\n",
      "Logistic Regression model without lng trained. (4/15)\n",
      "Logistic Regression model without population trained. (5/15)\n",
      "Logistic Regression model without density trained. (6/15)\n",
      "Logistic Regression model without Walk trained. (7/15)\n",
      "Logistic Regression model without Memorials trained. (8/15)\n",
      "Logistic Regression model without Chapter trained. (9/15)\n",
      "Logistic Regression model without Individual Donor trained. (10/15)\n",
      "Logistic Regression model without Direct Mail trained. (11/15)\n",
      "Logistic Regression model without Comm Third Party trained. (12/15)\n",
      "Logistic Regression model without Federated Donations trained. (13/15)\n",
      "Logistic Regression model without Sponsorship trained. (14/15)\n",
      "Logistic Regression model without Quarter trained. (15/15)\n",
      "===Lowest Performance Scores of each Metric of Logistic Regression model===\n",
      "Lowest AUC: Donation Amount\n",
      "Lowest Precision: Donation Amount\n",
      "Lowest Accuracy: Donation Amount\n",
      "Lowest Recall: Donation Amount\n",
      "Lowest F1: Donation Amount\n"
     ]
    }
   ],
   "source": [
    "tester.calc_scores(\"Logistic Regression\")\n",
    "tester.find_best_predictors(\"Logistic Regression\")"
   ]
  },
  {
   "cell_type": "markdown",
   "id": "6f3727b7",
   "metadata": {},
   "source": [
    "### Support Vector Machine"
   ]
  },
  {
   "cell_type": "code",
   "execution_count": 265,
   "id": "250d14f4",
   "metadata": {
    "scrolled": true
   },
   "outputs": [
    {
     "name": "stdout",
     "output_type": "stream",
     "text": [
      "Index(['Donation Amount', 'Gender', 'lat', 'lng', 'population', 'density',\n",
      "       'Walk', 'Memorials', 'Chapter', 'Individual Donor', 'Direct Mail',\n",
      "       'Comm Third Party', 'Federated Donations', 'Sponsorship', 'Quarter'],\n",
      "      dtype='object')\n",
      "SVM model performance\n",
      "Confusion Matrix:\n",
      " [[4721  251]\n",
      " [3268  636]]\n",
      "Accuracy: 0.6035376295628662\n",
      "Precision: 0.6539806072131593\n",
      "Recall: 0.5562135664640017\n",
      "F1 Score: 0.4969954901069472\n",
      "ROC-AUC: 0.6047448446958708\n"
     ]
    },
    {
     "data": {
      "image/png": "[encoded data removed]",
      "text/plain": [
       "<Figure size 640x480 with 1 Axes>"
      ]
     },
     "metadata": {},
     "output_type": "display_data"
    }
   ],
   "source": [
    "# Support Vector Machine Model\n",
    "from sklearn.svm import LinearSVC \n",
    "from sklearn.calibration import CalibratedClassifierCV\n",
    "#CalibratedClassifierCV allows us to use .predict_proba\n",
    "SVM_model = CalibratedClassifierCV(LinearSVC(dual = False, class_weight = 'balanced'))\n",
    "tester.test_model(SVM_model, 'SVM')"
   ]
  },
  {
   "cell_type": "code",
   "execution_count": 245,
   "id": "1abf4733",
   "metadata": {
    "scrolled": true
   },
   "outputs": [
    {
     "name": "stdout",
     "output_type": "stream",
     "text": [
      "SVM model without Donation Amount trained. (1/15)\n",
      "SVM model without Gender trained. (2/15)\n",
      "SVM model without lat trained. (3/15)\n",
      "SVM model without lng trained. (4/15)\n",
      "SVM model without population trained. (5/15)\n",
      "SVM model without density trained. (6/15)\n",
      "SVM model without Walk trained. (7/15)\n",
      "SVM model without Memorials trained. (8/15)\n",
      "SVM model without Chapter trained. (9/15)\n",
      "SVM model without Individual Donor trained. (10/15)\n",
      "SVM model without Direct Mail trained. (11/15)\n",
      "SVM model without Comm Third Party trained. (12/15)\n",
      "SVM model without Federated Donations trained. (13/15)\n",
      "SVM model without Sponsorship trained. (14/15)\n",
      "SVM model without Quarter trained. (15/15)\n",
      "===Lowest Performance Scores of each Metric of SVM model===\n",
      "Lowest AUC: Direct Mail\n",
      "Lowest Precision: Direct Mail\n",
      "Lowest Accuracy: Gender\n",
      "Lowest Recall: Gender\n",
      "Lowest F1: Gender\n"
     ]
    }
   ],
   "source": [
    "tester.calc_scores(\"SVM\")\n",
    "tester.find_best_predictors(\"SVM\")"
   ]
  },
  {
   "cell_type": "markdown",
   "id": "8e73e21c",
   "metadata": {},
   "source": [
    "### AdaBoost"
   ]
  },
  {
   "cell_type": "code",
   "execution_count": 254,
   "id": "172ba70f",
   "metadata": {
    "scrolled": true
   },
   "outputs": [
    {
     "name": "stdout",
     "output_type": "stream",
     "text": [
      "Index(['Donation Amount', 'Gender', 'lat', 'lng', 'population', 'density',\n",
      "       'Walk', 'Memorials', 'Chapter', 'Individual Donor', 'Direct Mail',\n",
      "       'Comm Third Party', 'Federated Donations', 'Sponsorship', 'Quarter'],\n",
      "      dtype='object')\n",
      "Adaboost model performance\n",
      "Confusion Matrix:\n",
      " [[3840 1132]\n",
      " [2095 1809]]\n",
      "Accuracy: 0.636435331230284\n",
      "Precision: 0.6310530864370818\n",
      "Recall: 0.6178479608759875\n",
      "F1 Score: 0.6163479763131858\n",
      "ROC-AUC: 0.6826062012845706\n"
     ]
    },
    {
     "data": {
      "image/png": "[encoded data removed]",
      "text/plain": [
       "<Figure size 640x480 with 1 Axes>"
      ]
     },
     "metadata": {},
     "output_type": "display_data"
    }
   ],
   "source": [
    "from sklearn.ensemble import AdaBoostClassifier\n",
    "AB_model = AdaBoostClassifier()\n",
    "tester.test_model(AB_model, \"Adaboost\")"
   ]
  },
  {
   "cell_type": "code",
   "execution_count": 248,
   "id": "d313eda2",
   "metadata": {
    "scrolled": true
   },
   "outputs": [
    {
     "name": "stdout",
     "output_type": "stream",
     "text": [
      "Adaboost model without Donation Amount trained. (1/15)\n",
      "Adaboost model without Gender trained. (2/15)\n",
      "Adaboost model without lat trained. (3/15)\n",
      "Adaboost model without lng trained. (4/15)\n",
      "Adaboost model without population trained. (5/15)\n",
      "Adaboost model without density trained. (6/15)\n",
      "Adaboost model without Walk trained. (7/15)\n",
      "Adaboost model without Memorials trained. (8/15)\n",
      "Adaboost model without Chapter trained. (9/15)\n",
      "Adaboost model without Individual Donor trained. (10/15)\n",
      "Adaboost model without Direct Mail trained. (11/15)\n",
      "Adaboost model without Comm Third Party trained. (12/15)\n",
      "Adaboost model without Federated Donations trained. (13/15)\n",
      "Adaboost model without Sponsorship trained. (14/15)\n",
      "Adaboost model without Quarter trained. (15/15)\n",
      "===Lowest Performance Scores of each Metric of Adaboost model===\n",
      "Lowest AUC: Donation Amount\n",
      "Lowest Precision: Gender\n",
      "Lowest Accuracy: Donation Amount\n",
      "Lowest Recall: Donation Amount\n",
      "Lowest F1: Donation Amount\n"
     ]
    }
   ],
   "source": [
    "tester.calc_scores(\"Adaboost\")\n",
    "tester.find_best_predictors(\"Adaboost\")"
   ]
  },
  {
   "cell_type": "code",
   "execution_count": 259,
   "id": "3f935913",
   "metadata": {},
   "outputs": [],
   "source": [
    "rows = tester.X_test.head(10)"
   ]
  },
  {
   "cell_type": "code",
   "execution_count": 261,
   "id": "e9f85499",
   "metadata": {},
   "outputs": [
    {
     "data": {
      "text/html": [
       "<div>\n",
       "<style scoped>\n",
       "    .dataframe tbody tr th:only-of-type {\n",
       "        vertical-align: middle;\n",
       "    }\n",
       "\n",
       "    .dataframe tbody tr th {\n",
       "        vertical-align: top;\n",
       "    }\n",
       "\n",
       "    .dataframe thead th {\n",
       "        text-align: right;\n",
       "    }\n",
       "</style>\n",
       "<table border=\"1\" class=\"dataframe\">\n",
       "  <thead>\n",
       "    <tr style=\"text-align: right;\">\n",
       "      <th></th>\n",
       "      <th>Donation Amount</th>\n",
       "      <th>Gender</th>\n",
       "      <th>lat</th>\n",
       "      <th>lng</th>\n",
       "      <th>population</th>\n",
       "      <th>density</th>\n",
       "      <th>Walk</th>\n",
       "      <th>Memorials</th>\n",
       "      <th>Chapter</th>\n",
       "      <th>Individual Donor</th>\n",
       "      <th>Direct Mail</th>\n",
       "      <th>Comm Third Party</th>\n",
       "      <th>Federated Donations</th>\n",
       "      <th>Sponsorship</th>\n",
       "      <th>Quarter</th>\n",
       "    </tr>\n",
       "  </thead>\n",
       "  <tbody>\n",
       "    <tr>\n",
       "      <th>43936</th>\n",
       "      <td>25.00</td>\n",
       "      <td>0</td>\n",
       "      <td>41.08792</td>\n",
       "      <td>-73.54351</td>\n",
       "      <td>21604.0</td>\n",
       "      <td>1644.8</td>\n",
       "      <td>1</td>\n",
       "      <td>0</td>\n",
       "      <td>0</td>\n",
       "      <td>0</td>\n",
       "      <td>0</td>\n",
       "      <td>0</td>\n",
       "      <td>0</td>\n",
       "      <td>0</td>\n",
       "      <td>4</td>\n",
       "    </tr>\n",
       "    <tr>\n",
       "      <th>4194</th>\n",
       "      <td>100.00</td>\n",
       "      <td>1</td>\n",
       "      <td>32.97382</td>\n",
       "      <td>-96.74160</td>\n",
       "      <td>52420.0</td>\n",
       "      <td>1789.2</td>\n",
       "      <td>1</td>\n",
       "      <td>0</td>\n",
       "      <td>0</td>\n",
       "      <td>0</td>\n",
       "      <td>0</td>\n",
       "      <td>0</td>\n",
       "      <td>0</td>\n",
       "      <td>0</td>\n",
       "      <td>2</td>\n",
       "    </tr>\n",
       "    <tr>\n",
       "      <th>19667</th>\n",
       "      <td>51.43</td>\n",
       "      <td>0</td>\n",
       "      <td>31.33872</td>\n",
       "      <td>-94.83467</td>\n",
       "      <td>34663.0</td>\n",
       "      <td>83.4</td>\n",
       "      <td>0</td>\n",
       "      <td>1</td>\n",
       "      <td>0</td>\n",
       "      <td>0</td>\n",
       "      <td>0</td>\n",
       "      <td>0</td>\n",
       "      <td>0</td>\n",
       "      <td>0</td>\n",
       "      <td>1</td>\n",
       "    </tr>\n",
       "    <tr>\n",
       "      <th>43927</th>\n",
       "      <td>100.00</td>\n",
       "      <td>0</td>\n",
       "      <td>38.33528</td>\n",
       "      <td>-85.69689</td>\n",
       "      <td>47894.0</td>\n",
       "      <td>544.9</td>\n",
       "      <td>1</td>\n",
       "      <td>0</td>\n",
       "      <td>0</td>\n",
       "      <td>0</td>\n",
       "      <td>0</td>\n",
       "      <td>0</td>\n",
       "      <td>0</td>\n",
       "      <td>0</td>\n",
       "      <td>4</td>\n",
       "    </tr>\n",
       "    <tr>\n",
       "      <th>17028</th>\n",
       "      <td>50.00</td>\n",
       "      <td>0</td>\n",
       "      <td>34.01584</td>\n",
       "      <td>-118.49251</td>\n",
       "      <td>7482.0</td>\n",
       "      <td>3828.7</td>\n",
       "      <td>0</td>\n",
       "      <td>1</td>\n",
       "      <td>0</td>\n",
       "      <td>0</td>\n",
       "      <td>0</td>\n",
       "      <td>0</td>\n",
       "      <td>0</td>\n",
       "      <td>0</td>\n",
       "      <td>1</td>\n",
       "    </tr>\n",
       "    <tr>\n",
       "      <th>2119</th>\n",
       "      <td>50.00</td>\n",
       "      <td>0</td>\n",
       "      <td>38.29705</td>\n",
       "      <td>-81.65463</td>\n",
       "      <td>14905.0</td>\n",
       "      <td>176.0</td>\n",
       "      <td>1</td>\n",
       "      <td>0</td>\n",
       "      <td>0</td>\n",
       "      <td>0</td>\n",
       "      <td>0</td>\n",
       "      <td>0</td>\n",
       "      <td>0</td>\n",
       "      <td>0</td>\n",
       "      <td>4</td>\n",
       "    </tr>\n",
       "    <tr>\n",
       "      <th>29264</th>\n",
       "      <td>500.00</td>\n",
       "      <td>-1</td>\n",
       "      <td>26.16650</td>\n",
       "      <td>-98.19082</td>\n",
       "      <td>79128.0</td>\n",
       "      <td>1175.0</td>\n",
       "      <td>1</td>\n",
       "      <td>0</td>\n",
       "      <td>0</td>\n",
       "      <td>0</td>\n",
       "      <td>0</td>\n",
       "      <td>0</td>\n",
       "      <td>0</td>\n",
       "      <td>0</td>\n",
       "      <td>4</td>\n",
       "    </tr>\n",
       "    <tr>\n",
       "      <th>28343</th>\n",
       "      <td>100.00</td>\n",
       "      <td>0</td>\n",
       "      <td>29.60929</td>\n",
       "      <td>-95.12417</td>\n",
       "      <td>18020.0</td>\n",
       "      <td>753.5</td>\n",
       "      <td>1</td>\n",
       "      <td>0</td>\n",
       "      <td>0</td>\n",
       "      <td>0</td>\n",
       "      <td>0</td>\n",
       "      <td>0</td>\n",
       "      <td>0</td>\n",
       "      <td>0</td>\n",
       "      <td>4</td>\n",
       "    </tr>\n",
       "    <tr>\n",
       "      <th>11376</th>\n",
       "      <td>100.00</td>\n",
       "      <td>0</td>\n",
       "      <td>30.17791</td>\n",
       "      <td>-95.50266</td>\n",
       "      <td>36080.0</td>\n",
       "      <td>1099.2</td>\n",
       "      <td>1</td>\n",
       "      <td>0</td>\n",
       "      <td>0</td>\n",
       "      <td>0</td>\n",
       "      <td>0</td>\n",
       "      <td>0</td>\n",
       "      <td>0</td>\n",
       "      <td>0</td>\n",
       "      <td>4</td>\n",
       "    </tr>\n",
       "    <tr>\n",
       "      <th>22927</th>\n",
       "      <td>30.00</td>\n",
       "      <td>0</td>\n",
       "      <td>33.02163</td>\n",
       "      <td>-96.74043</td>\n",
       "      <td>36221.0</td>\n",
       "      <td>1441.7</td>\n",
       "      <td>1</td>\n",
       "      <td>0</td>\n",
       "      <td>0</td>\n",
       "      <td>0</td>\n",
       "      <td>0</td>\n",
       "      <td>0</td>\n",
       "      <td>0</td>\n",
       "      <td>0</td>\n",
       "      <td>3</td>\n",
       "    </tr>\n",
       "  </tbody>\n",
       "</table>\n",
       "</div>"
      ],
      "text/plain": [
       "       Donation Amount  Gender       lat        lng  population  density  \\\n",
       "43936            25.00       0  41.08792  -73.54351     21604.0   1644.8   \n",
       "4194            100.00       1  32.97382  -96.74160     52420.0   1789.2   \n",
       "19667            51.43       0  31.33872  -94.83467     34663.0     83.4   \n",
       "43927           100.00       0  38.33528  -85.69689     47894.0    544.9   \n",
       "17028            50.00       0  34.01584 -118.49251      7482.0   3828.7   \n",
       "2119             50.00       0  38.29705  -81.65463     14905.0    176.0   \n",
       "29264           500.00      -1  26.16650  -98.19082     79128.0   1175.0   \n",
       "28343           100.00       0  29.60929  -95.12417     18020.0    753.5   \n",
       "11376           100.00       0  30.17791  -95.50266     36080.0   1099.2   \n",
       "22927            30.00       0  33.02163  -96.74043     36221.0   1441.7   \n",
       "\n",
       "       Walk  Memorials  Chapter  Individual Donor  Direct Mail  \\\n",
       "43936     1          0        0                 0            0   \n",
       "4194      1          0        0                 0            0   \n",
       "19667     0          1        0                 0            0   \n",
       "43927     1          0        0                 0            0   \n",
       "17028     0          1        0                 0            0   \n",
       "2119      1          0        0                 0            0   \n",
       "29264     1          0        0                 0            0   \n",
       "28343     1          0        0                 0            0   \n",
       "11376     1          0        0                 0            0   \n",
       "22927     1          0        0                 0            0   \n",
       "\n",
       "       Comm Third Party  Federated Donations  Sponsorship  Quarter  \n",
       "43936                 0                    0            0        4  \n",
       "4194                  0                    0            0        2  \n",
       "19667                 0                    0            0        1  \n",
       "43927                 0                    0            0        4  \n",
       "17028                 0                    0            0        1  \n",
       "2119                  0                    0            0        4  \n",
       "29264                 0                    0            0        4  \n",
       "28343                 0                    0            0        4  \n",
       "11376                 0                    0            0        4  \n",
       "22927                 0                    0            0        3  "
      ]
     },
     "execution_count": 261,
     "metadata": {},
     "output_type": "execute_result"
    }
   ],
   "source": [
    "rows"
   ]
  },
  {
   "cell_type": "code",
   "execution_count": 262,
   "id": "17a63a89",
   "metadata": {
    "scrolled": false
   },
   "outputs": [
    {
     "data": {
      "text/plain": [
       "array([[0.50446948, 0.49553052],\n",
       "       [0.49472055, 0.50527945],\n",
       "       [0.50947188, 0.49052812],\n",
       "       [0.50048048, 0.49951952],\n",
       "       [0.51166713, 0.48833287],\n",
       "       [0.50296484, 0.49703516],\n",
       "       [0.49186665, 0.50813335],\n",
       "       [0.50053329, 0.49946671],\n",
       "       [0.49950659, 0.50049341],\n",
       "       [0.50137452, 0.49862548]])"
      ]
     },
     "execution_count": 262,
     "metadata": {},
     "output_type": "execute_result"
    }
   ],
   "source": [
    "tester.predict(rows, 'Adaboost')"
   ]
  },
  {
   "cell_type": "code",
   "execution_count": 266,
   "id": "716c3e54",
   "metadata": {
    "scrolled": false
   },
   "outputs": [
    {
     "data": {
      "text/plain": [
       "array([[0.62777182, 0.37222818],\n",
       "       [0.47667878, 0.52332122],\n",
       "       [0.79515314, 0.20484686],\n",
       "       [0.58651256, 0.41348744],\n",
       "       [0.79403338, 0.20596662],\n",
       "       [0.60496473, 0.39503527],\n",
       "       [0.55441065, 0.44558935],\n",
       "       [0.54263958, 0.45736042],\n",
       "       [0.53795086, 0.46204914],\n",
       "       [0.55053571, 0.44946429]])"
      ]
     },
     "execution_count": 266,
     "metadata": {},
     "output_type": "execute_result"
    }
   ],
   "source": [
    "tester.predict(rows, 'SVM')"
   ]
  },
  {
   "cell_type": "code",
   "execution_count": 269,
   "id": "cb5662c3",
   "metadata": {},
   "outputs": [
    {
     "data": {
      "text/plain": [
       "array([[0.51429007, 0.48570993],\n",
       "       [0.49499524, 0.50500476],\n",
       "       [0.50356549, 0.49643451],\n",
       "       [0.49220129, 0.50779871],\n",
       "       [0.54157002, 0.45842998],\n",
       "       [0.5156064 , 0.4843936 ],\n",
       "       [0.45956312, 0.54043688],\n",
       "       [0.515877  , 0.484123  ],\n",
       "       [0.50402202, 0.49597798],\n",
       "       [0.50809749, 0.49190251]])"
      ]
     },
     "execution_count": 269,
     "metadata": {},
     "output_type": "execute_result"
    }
   ],
   "source": [
    "tester.predict(rows, 'Logistic Regression')"
   ]
  },
  {
   "cell_type": "code",
   "execution_count": 267,
   "id": "64e15a72",
   "metadata": {
    "scrolled": true
   },
   "outputs": [
    {
     "data": {
      "text/plain": [
       "43936    0\n",
       "4194     0\n",
       "19667    0\n",
       "43927    0\n",
       "17028    0\n",
       "2119     0\n",
       "29264    1\n",
       "28343    0\n",
       "11376    1\n",
       "22927    1\n",
       "Name: Retained, dtype: int64"
      ]
     },
     "execution_count": 267,
     "metadata": {},
     "output_type": "execute_result"
    }
   ],
   "source": [
    "tester.y_test.head(10)"
   ]
  },
  {
   "cell_type": "markdown",
   "id": "ebf3e685",
   "metadata": {},
   "source": [
    "# Now Drop Missing Genders"
   ]
  },
  {
   "cell_type": "code",
   "execution_count": 118,
   "id": "ee51edc5",
   "metadata": {
    "scrolled": false
   },
   "outputs": [
    {
     "data": {
      "text/plain": [
       " 0    40702\n",
       " 1     2293\n",
       "-1     1384\n",
       "Name: Gender, dtype: int64"
      ]
     },
     "execution_count": 118,
     "metadata": {},
     "output_type": "execute_result"
    }
   ],
   "source": [
    "quant_df['Gender'].value_counts()"
   ]
  },
  {
   "cell_type": "code",
   "execution_count": 119,
   "id": "c3b9bdc1",
   "metadata": {},
   "outputs": [],
   "source": [
    "quant_df_gender = quant_df[quant_df['Gender']!=0]"
   ]
  },
  {
   "cell_type": "code",
   "execution_count": 120,
   "id": "f60700d3",
   "metadata": {
    "scrolled": true
   },
   "outputs": [
    {
     "data": {
      "text/html": [
       "<div>\n",
       "<style scoped>\n",
       "    .dataframe tbody tr th:only-of-type {\n",
       "        vertical-align: middle;\n",
       "    }\n",
       "\n",
       "    .dataframe tbody tr th {\n",
       "        vertical-align: top;\n",
       "    }\n",
       "\n",
       "    .dataframe thead th {\n",
       "        text-align: right;\n",
       "    }\n",
       "</style>\n",
       "<table border=\"1\" class=\"dataframe\">\n",
       "  <thead>\n",
       "    <tr style=\"text-align: right;\">\n",
       "      <th></th>\n",
       "      <th>Donation Amount</th>\n",
       "      <th>Gender</th>\n",
       "      <th>Age</th>\n",
       "      <th>Retained</th>\n",
       "      <th>lat</th>\n",
       "      <th>lng</th>\n",
       "      <th>population</th>\n",
       "      <th>density</th>\n",
       "      <th>Walk</th>\n",
       "      <th>Memorials</th>\n",
       "      <th>Chapter</th>\n",
       "      <th>Individual Donor</th>\n",
       "      <th>Direct Mail</th>\n",
       "      <th>Comm Third Party</th>\n",
       "      <th>Federated Donations</th>\n",
       "      <th>Sponsorship</th>\n",
       "      <th>Quarter</th>\n",
       "    </tr>\n",
       "  </thead>\n",
       "  <tbody>\n",
       "    <tr>\n",
       "      <th>2</th>\n",
       "      <td>100.0</td>\n",
       "      <td>-1</td>\n",
       "      <td>NaN</td>\n",
       "      <td>1</td>\n",
       "      <td>29.74566</td>\n",
       "      <td>-95.82302</td>\n",
       "      <td>129165.0</td>\n",
       "      <td>1316.4</td>\n",
       "      <td>0</td>\n",
       "      <td>1</td>\n",
       "      <td>0</td>\n",
       "      <td>0</td>\n",
       "      <td>0</td>\n",
       "      <td>0</td>\n",
       "      <td>0</td>\n",
       "      <td>0</td>\n",
       "      <td>1</td>\n",
       "    </tr>\n",
       "    <tr>\n",
       "      <th>3</th>\n",
       "      <td>50.0</td>\n",
       "      <td>1</td>\n",
       "      <td>NaN</td>\n",
       "      <td>0</td>\n",
       "      <td>29.74566</td>\n",
       "      <td>-95.82302</td>\n",
       "      <td>129165.0</td>\n",
       "      <td>1316.4</td>\n",
       "      <td>0</td>\n",
       "      <td>1</td>\n",
       "      <td>0</td>\n",
       "      <td>0</td>\n",
       "      <td>0</td>\n",
       "      <td>0</td>\n",
       "      <td>0</td>\n",
       "      <td>0</td>\n",
       "      <td>2</td>\n",
       "    </tr>\n",
       "    <tr>\n",
       "      <th>15</th>\n",
       "      <td>100.0</td>\n",
       "      <td>1</td>\n",
       "      <td>70.0</td>\n",
       "      <td>0</td>\n",
       "      <td>29.74566</td>\n",
       "      <td>-95.82302</td>\n",
       "      <td>129165.0</td>\n",
       "      <td>1316.4</td>\n",
       "      <td>1</td>\n",
       "      <td>0</td>\n",
       "      <td>0</td>\n",
       "      <td>0</td>\n",
       "      <td>0</td>\n",
       "      <td>0</td>\n",
       "      <td>0</td>\n",
       "      <td>0</td>\n",
       "      <td>3</td>\n",
       "    </tr>\n",
       "    <tr>\n",
       "      <th>41</th>\n",
       "      <td>100.0</td>\n",
       "      <td>-1</td>\n",
       "      <td>NaN</td>\n",
       "      <td>1</td>\n",
       "      <td>29.74566</td>\n",
       "      <td>-95.82302</td>\n",
       "      <td>129165.0</td>\n",
       "      <td>1316.4</td>\n",
       "      <td>0</td>\n",
       "      <td>0</td>\n",
       "      <td>0</td>\n",
       "      <td>0</td>\n",
       "      <td>1</td>\n",
       "      <td>0</td>\n",
       "      <td>0</td>\n",
       "      <td>0</td>\n",
       "      <td>2</td>\n",
       "    </tr>\n",
       "    <tr>\n",
       "      <th>62</th>\n",
       "      <td>100.0</td>\n",
       "      <td>-1</td>\n",
       "      <td>60.0</td>\n",
       "      <td>0</td>\n",
       "      <td>29.74566</td>\n",
       "      <td>-95.82302</td>\n",
       "      <td>129165.0</td>\n",
       "      <td>1316.4</td>\n",
       "      <td>1</td>\n",
       "      <td>0</td>\n",
       "      <td>0</td>\n",
       "      <td>0</td>\n",
       "      <td>0</td>\n",
       "      <td>0</td>\n",
       "      <td>0</td>\n",
       "      <td>0</td>\n",
       "      <td>3</td>\n",
       "    </tr>\n",
       "    <tr>\n",
       "      <th>...</th>\n",
       "      <td>...</td>\n",
       "      <td>...</td>\n",
       "      <td>...</td>\n",
       "      <td>...</td>\n",
       "      <td>...</td>\n",
       "      <td>...</td>\n",
       "      <td>...</td>\n",
       "      <td>...</td>\n",
       "      <td>...</td>\n",
       "      <td>...</td>\n",
       "      <td>...</td>\n",
       "      <td>...</td>\n",
       "      <td>...</td>\n",
       "      <td>...</td>\n",
       "      <td>...</td>\n",
       "      <td>...</td>\n",
       "      <td>...</td>\n",
       "    </tr>\n",
       "    <tr>\n",
       "      <th>44083</th>\n",
       "      <td>100.0</td>\n",
       "      <td>1</td>\n",
       "      <td>NaN</td>\n",
       "      <td>0</td>\n",
       "      <td>39.37215</td>\n",
       "      <td>-119.67611</td>\n",
       "      <td>36301.0</td>\n",
       "      <td>150.7</td>\n",
       "      <td>1</td>\n",
       "      <td>0</td>\n",
       "      <td>0</td>\n",
       "      <td>0</td>\n",
       "      <td>0</td>\n",
       "      <td>0</td>\n",
       "      <td>0</td>\n",
       "      <td>0</td>\n",
       "      <td>3</td>\n",
       "    </tr>\n",
       "    <tr>\n",
       "      <th>44171</th>\n",
       "      <td>1500.0</td>\n",
       "      <td>1</td>\n",
       "      <td>NaN</td>\n",
       "      <td>0</td>\n",
       "      <td>40.64180</td>\n",
       "      <td>-111.50332</td>\n",
       "      <td>8757.0</td>\n",
       "      <td>77.2</td>\n",
       "      <td>1</td>\n",
       "      <td>0</td>\n",
       "      <td>0</td>\n",
       "      <td>0</td>\n",
       "      <td>0</td>\n",
       "      <td>0</td>\n",
       "      <td>0</td>\n",
       "      <td>0</td>\n",
       "      <td>3</td>\n",
       "    </tr>\n",
       "    <tr>\n",
       "      <th>44263</th>\n",
       "      <td>400.0</td>\n",
       "      <td>-1</td>\n",
       "      <td>64.0</td>\n",
       "      <td>0</td>\n",
       "      <td>42.68138</td>\n",
       "      <td>-73.85099</td>\n",
       "      <td>30470.0</td>\n",
       "      <td>1127.6</td>\n",
       "      <td>1</td>\n",
       "      <td>0</td>\n",
       "      <td>0</td>\n",
       "      <td>0</td>\n",
       "      <td>0</td>\n",
       "      <td>0</td>\n",
       "      <td>0</td>\n",
       "      <td>0</td>\n",
       "      <td>3</td>\n",
       "    </tr>\n",
       "    <tr>\n",
       "      <th>44334</th>\n",
       "      <td>100.0</td>\n",
       "      <td>-1</td>\n",
       "      <td>NaN</td>\n",
       "      <td>0</td>\n",
       "      <td>37.67803</td>\n",
       "      <td>-122.13334</td>\n",
       "      <td>30262.0</td>\n",
       "      <td>3516.9</td>\n",
       "      <td>1</td>\n",
       "      <td>0</td>\n",
       "      <td>0</td>\n",
       "      <td>0</td>\n",
       "      <td>0</td>\n",
       "      <td>0</td>\n",
       "      <td>0</td>\n",
       "      <td>0</td>\n",
       "      <td>4</td>\n",
       "    </tr>\n",
       "    <tr>\n",
       "      <th>44348</th>\n",
       "      <td>100.0</td>\n",
       "      <td>1</td>\n",
       "      <td>NaN</td>\n",
       "      <td>0</td>\n",
       "      <td>35.34266</td>\n",
       "      <td>-119.06461</td>\n",
       "      <td>62804.0</td>\n",
       "      <td>2320.1</td>\n",
       "      <td>1</td>\n",
       "      <td>0</td>\n",
       "      <td>0</td>\n",
       "      <td>0</td>\n",
       "      <td>0</td>\n",
       "      <td>0</td>\n",
       "      <td>0</td>\n",
       "      <td>0</td>\n",
       "      <td>4</td>\n",
       "    </tr>\n",
       "  </tbody>\n",
       "</table>\n",
       "<p>3677 rows × 17 columns</p>\n",
       "</div>"
      ],
      "text/plain": [
       "       Donation Amount  Gender   Age  Retained       lat        lng  \\\n",
       "2                100.0      -1   NaN         1  29.74566  -95.82302   \n",
       "3                 50.0       1   NaN         0  29.74566  -95.82302   \n",
       "15               100.0       1  70.0         0  29.74566  -95.82302   \n",
       "41               100.0      -1   NaN         1  29.74566  -95.82302   \n",
       "62               100.0      -1  60.0         0  29.74566  -95.82302   \n",
       "...                ...     ...   ...       ...       ...        ...   \n",
       "44083            100.0       1   NaN         0  39.37215 -119.67611   \n",
       "44171           1500.0       1   NaN         0  40.64180 -111.50332   \n",
       "44263            400.0      -1  64.0         0  42.68138  -73.85099   \n",
       "44334            100.0      -1   NaN         0  37.67803 -122.13334   \n",
       "44348            100.0       1   NaN         0  35.34266 -119.06461   \n",
       "\n",
       "       population  density  Walk  Memorials  Chapter  Individual Donor  \\\n",
       "2        129165.0   1316.4     0          1        0                 0   \n",
       "3        129165.0   1316.4     0          1        0                 0   \n",
       "15       129165.0   1316.4     1          0        0                 0   \n",
       "41       129165.0   1316.4     0          0        0                 0   \n",
       "62       129165.0   1316.4     1          0        0                 0   \n",
       "...           ...      ...   ...        ...      ...               ...   \n",
       "44083     36301.0    150.7     1          0        0                 0   \n",
       "44171      8757.0     77.2     1          0        0                 0   \n",
       "44263     30470.0   1127.6     1          0        0                 0   \n",
       "44334     30262.0   3516.9     1          0        0                 0   \n",
       "44348     62804.0   2320.1     1          0        0                 0   \n",
       "\n",
       "       Direct Mail  Comm Third Party  Federated Donations  Sponsorship  \\\n",
       "2                0                 0                    0            0   \n",
       "3                0                 0                    0            0   \n",
       "15               0                 0                    0            0   \n",
       "41               1                 0                    0            0   \n",
       "62               0                 0                    0            0   \n",
       "...            ...               ...                  ...          ...   \n",
       "44083            0                 0                    0            0   \n",
       "44171            0                 0                    0            0   \n",
       "44263            0                 0                    0            0   \n",
       "44334            0                 0                    0            0   \n",
       "44348            0                 0                    0            0   \n",
       "\n",
       "       Quarter  \n",
       "2            1  \n",
       "3            2  \n",
       "15           3  \n",
       "41           2  \n",
       "62           3  \n",
       "...        ...  \n",
       "44083        3  \n",
       "44171        3  \n",
       "44263        3  \n",
       "44334        4  \n",
       "44348        4  \n",
       "\n",
       "[3677 rows x 17 columns]"
      ]
     },
     "execution_count": 120,
     "metadata": {},
     "output_type": "execute_result"
    }
   ],
   "source": [
    "quant_df_gender"
   ]
  },
  {
   "cell_type": "code",
   "execution_count": 121,
   "id": "a30cfcdd",
   "metadata": {
    "scrolled": true
   },
   "outputs": [
    {
     "name": "stdout",
     "output_type": "stream",
     "text": [
      "<class 'pandas.core.frame.DataFrame'>\n",
      "Int64Index: 3677 entries, 2 to 44348\n",
      "Data columns (total 17 columns):\n",
      " #   Column               Non-Null Count  Dtype  \n",
      "---  ------               --------------  -----  \n",
      " 0   Donation Amount      3677 non-null   float64\n",
      " 1   Gender               3677 non-null   int64  \n",
      " 2   Age                  597 non-null    float64\n",
      " 3   Retained             3677 non-null   int64  \n",
      " 4   lat                  3677 non-null   float64\n",
      " 5   lng                  3677 non-null   float64\n",
      " 6   population           3677 non-null   float64\n",
      " 7   density              3677 non-null   float64\n",
      " 8   Walk                 3677 non-null   uint8  \n",
      " 9   Memorials            3677 non-null   uint8  \n",
      " 10  Chapter              3677 non-null   uint8  \n",
      " 11  Individual Donor     3677 non-null   uint8  \n",
      " 12  Direct Mail          3677 non-null   uint8  \n",
      " 13  Comm Third Party     3677 non-null   uint8  \n",
      " 14  Federated Donations  3677 non-null   uint8  \n",
      " 15  Sponsorship          3677 non-null   uint8  \n",
      " 16  Quarter              3677 non-null   int64  \n",
      "dtypes: float64(6), int64(3), uint8(8)\n",
      "memory usage: 316.0 KB\n"
     ]
    }
   ],
   "source": [
    "quant_df_gender.info()"
   ]
  },
  {
   "cell_type": "markdown",
   "id": "029908de",
   "metadata": {},
   "source": [
    "### Logistic Regression"
   ]
  },
  {
   "cell_type": "code",
   "execution_count": 277,
   "id": "048e91c4",
   "metadata": {},
   "outputs": [],
   "source": [
    "tester2 = model_tester(quant_df_gender.drop('Age', axis=1), 'Retained')"
   ]
  },
  {
   "cell_type": "code",
   "execution_count": 282,
   "id": "4d33bfa8",
   "metadata": {
    "scrolled": false
   },
   "outputs": [
    {
     "name": "stdout",
     "output_type": "stream",
     "text": [
      "Index(['Donation Amount', 'Gender', 'lat', 'lng', 'population', 'density',\n",
      "       'Walk', 'Memorials', 'Chapter', 'Individual Donor', 'Direct Mail',\n",
      "       'Comm Third Party', 'Federated Donations', 'Sponsorship', 'Quarter'],\n",
      "      dtype='object')\n",
      "Logistic Regression model performance\n",
      "Confusion Matrix:\n",
      " [[159  84]\n",
      " [260 233]]\n",
      "Accuracy: 0.532608695652174\n",
      "Precision: 0.5572453566023956\n",
      "Recall: 0.5634688102571808\n",
      "F1 Score: 0.5278355898698295\n",
      "ROC-AUC: 0.5667993889765357\n"
     ]
    },
    {
     "data": {
      "image/png": "[encoded data removed]",
      "text/plain": [
       "<Figure size 640x480 with 1 Axes>"
      ]
     },
     "metadata": {},
     "output_type": "display_data"
    }
   ],
   "source": [
    "# Logistic Regression Model\n",
    "LR_model = LogisticRegression(class_weight = 'balanced', max_iter = 3000)\n",
    "tester2.test_model(LR_model, \"Logistic Regression\")"
   ]
  },
  {
   "cell_type": "code",
   "execution_count": 280,
   "id": "2382b8dc",
   "metadata": {
    "scrolled": true
   },
   "outputs": [
    {
     "name": "stdout",
     "output_type": "stream",
     "text": [
      "Logistic Regression model without Donation Amount trained. (1/15)\n",
      "Logistic Regression model without Gender trained. (2/15)\n",
      "Logistic Regression model without lat trained. (3/15)\n",
      "Logistic Regression model without lng trained. (4/15)\n",
      "Logistic Regression model without population trained. (5/15)\n",
      "Logistic Regression model without density trained. (6/15)\n",
      "Logistic Regression model without Walk trained. (7/15)\n",
      "Logistic Regression model without Memorials trained. (8/15)\n",
      "Logistic Regression model without Chapter trained. (9/15)\n",
      "Logistic Regression model without Individual Donor trained. (10/15)\n",
      "Logistic Regression model without Direct Mail trained. (11/15)\n",
      "Logistic Regression model without Comm Third Party trained. (12/15)\n",
      "Logistic Regression model without Federated Donations trained. (13/15)\n",
      "Logistic Regression model without Sponsorship trained. (14/15)\n",
      "Logistic Regression model without Quarter trained. (15/15)\n",
      "===Lowest Performance Scores of each Metric of Logistic Regression model===\n",
      "Lowest AUC: Donation Amount\n",
      "Lowest Precision: Donation Amount\n",
      "Lowest Accuracy: Donation Amount\n",
      "Lowest Recall: Donation Amount\n",
      "Lowest F1: Donation Amount\n"
     ]
    }
   ],
   "source": [
    "tester2.calc_scores(\"Logistic Regression\")\n",
    "tester2.find_best_predictors(\"Logistic Regression\")"
   ]
  },
  {
   "cell_type": "markdown",
   "id": "c4aa8f6e",
   "metadata": {},
   "source": [
    "### Support Vector Machine"
   ]
  },
  {
   "cell_type": "code",
   "execution_count": 284,
   "id": "ba8f5d72",
   "metadata": {
    "scrolled": false
   },
   "outputs": [
    {
     "name": "stdout",
     "output_type": "stream",
     "text": [
      "Index(['Donation Amount', 'Gender', 'lat', 'lng', 'population', 'density',\n",
      "       'Walk', 'Memorials', 'Chapter', 'Individual Donor', 'Direct Mail',\n",
      "       'Comm Third Party', 'Federated Donations', 'Sponsorship', 'Quarter'],\n",
      "      dtype='object')\n",
      "SVM model performance\n",
      "Confusion Matrix:\n",
      " [[ 69 174]\n",
      " [ 26 467]]\n",
      "Accuracy: 0.7282608695652174\n",
      "Precision: 0.7274324657196815\n",
      "Recall: 0.6156061402849773\n",
      "F1 Score: 0.6159585903175646\n",
      "ROC-AUC: 0.6969590731141329\n"
     ]
    },
    {
     "data": {
      "image/png": "[encoded data removed]",
      "text/plain": [
       "<Figure size 640x480 with 1 Axes>"
      ]
     },
     "metadata": {},
     "output_type": "display_data"
    }
   ],
   "source": [
    "SVM_model = CalibratedClassifierCV(LinearSVC(dual = False, class_weight = 'balanced'))\n",
    "tester2.test_model(SVM_model, \"SVM\")"
   ]
  },
  {
   "cell_type": "code",
   "execution_count": 283,
   "id": "7b68e4ef",
   "metadata": {
    "scrolled": false
   },
   "outputs": [
    {
     "name": "stdout",
     "output_type": "stream",
     "text": [
      "SVM model without Donation Amount trained. (1/15)\n",
      "SVM model without Gender trained. (2/15)\n",
      "SVM model without lat trained. (3/15)\n",
      "SVM model without lng trained. (4/15)\n",
      "SVM model without population trained. (5/15)\n",
      "SVM model without density trained. (6/15)\n",
      "SVM model without Walk trained. (7/15)\n",
      "SVM model without Memorials trained. (8/15)\n",
      "SVM model without Chapter trained. (9/15)\n",
      "SVM model without Individual Donor trained. (10/15)\n",
      "SVM model without Direct Mail trained. (11/15)\n",
      "SVM model without Comm Third Party trained. (12/15)\n",
      "SVM model without Federated Donations trained. (13/15)\n",
      "SVM model without Sponsorship trained. (14/15)\n",
      "SVM model without Quarter trained. (15/15)\n",
      "===Lowest Performance Scores of each Metric of SVM model===\n",
      "Lowest AUC: Direct Mail\n",
      "Lowest Precision: Memorials\n",
      "Lowest Accuracy: Walk\n",
      "Lowest Recall: Walk\n",
      "Lowest F1: Walk\n"
     ]
    }
   ],
   "source": [
    "tester2.calc_scores(\"SVM\")\n",
    "tester2.find_best_predictors(\"SVM\")"
   ]
  },
  {
   "cell_type": "code",
   "execution_count": null,
   "id": "3ecacfa8",
   "metadata": {},
   "outputs": [],
   "source": [
    "row2"
   ]
  },
  {
   "cell_type": "markdown",
   "id": "97227fc2",
   "metadata": {},
   "source": [
    "# Non Linear SVC"
   ]
  },
  {
   "cell_type": "code",
   "execution_count": 285,
   "id": "a354b08a",
   "metadata": {
    "scrolled": false
   },
   "outputs": [
    {
     "name": "stdout",
     "output_type": "stream",
     "text": [
      "Index(['Donation Amount', 'Gender', 'lat', 'lng', 'population', 'density',\n",
      "       'Walk', 'Memorials', 'Chapter', 'Individual Donor', 'Direct Mail',\n",
      "       'Comm Third Party', 'Federated Donations', 'Sponsorship', 'Quarter'],\n",
      "      dtype='object')\n",
      "SVC model performance\n",
      "Confusion Matrix:\n",
      " [[145  98]\n",
      " [242 251]]\n",
      "Accuracy: 0.5380434782608695\n",
      "Precision: 0.5469373551601845\n",
      "Recall: 0.5529178039883471\n",
      "F1 Score: 0.528258492629039\n",
      "ROC-AUC: 0.557876109149492\n"
     ]
    },
    {
     "data": {
      "image/png": "[encoded data removed]",
      "text/plain": [
       "<Figure size 640x480 with 1 Axes>"
      ]
     },
     "metadata": {},
     "output_type": "display_data"
    }
   ],
   "source": [
    "# Support Vector Machine Model\n",
    "from sklearn.svm import SVC\n",
    "#CalibratedClassifierCV allows us to use .predict_proba\n",
    "SVC_model = SVC(class_weight = 'balanced', probability = True)\n",
    "tester2.test_model(SVC_model, 'SVC')"
   ]
  },
  {
   "cell_type": "code",
   "execution_count": 128,
   "id": "4bc692dd",
   "metadata": {
    "scrolled": true
   },
   "outputs": [
    {
     "name": "stdout",
     "output_type": "stream",
     "text": [
      "SVC model without Donation Amount trained. (1/15)\n",
      "SVC model without Gender trained. (2/15)\n",
      "SVC model without lat trained. (3/15)\n",
      "SVC model without lng trained. (4/15)\n",
      "SVC model without population trained. (5/15)\n",
      "SVC model without density trained. (6/15)\n",
      "SVC model without Walk trained. (7/15)\n",
      "SVC model without Memorials trained. (8/15)\n",
      "SVC model without Chapter trained. (9/15)\n",
      "SVC model without Individual Donor trained. (10/15)\n",
      "SVC model without Direct Mail trained. (11/15)\n",
      "SVC model without Comm Third Party trained. (12/15)\n",
      "SVC model without Federated Donations trained. (13/15)\n",
      "SVC model without Sponsorship trained. (14/15)\n",
      "SVC model without Quarter trained. (15/15)\n",
      "===Lowest Performance Scores of each Metric of SVC model===\n",
      "Lowest AUC: Donation Amount\n",
      "Lowest Precision: Donation Amount\n",
      "Lowest Accuracy: Gender\n",
      "Lowest Recall: Donation Amount\n",
      "Lowest F1: Donation Amount\n"
     ]
    }
   ],
   "source": [
    "tester2.calc_scores(\"SVC\")\n",
    "tester2.find_best_predictors(\"SVC\")"
   ]
  },
  {
   "cell_type": "markdown",
   "id": "3c4fffd8",
   "metadata": {},
   "source": [
    "### AdaBoost"
   ]
  },
  {
   "cell_type": "code",
   "execution_count": 286,
   "id": "59ab159c",
   "metadata": {
    "scrolled": true
   },
   "outputs": [
    {
     "name": "stdout",
     "output_type": "stream",
     "text": [
      "Index(['Donation Amount', 'Gender', 'lat', 'lng', 'population', 'density',\n",
      "       'Walk', 'Memorials', 'Chapter', 'Individual Donor', 'Direct Mail',\n",
      "       'Comm Third Party', 'Federated Donations', 'Sponsorship', 'Quarter'],\n",
      "      dtype='object')\n",
      "AdaBoost model performance\n",
      "Confusion Matrix:\n",
      " [[102 141]\n",
      " [ 53 440]]\n",
      "Accuracy: 0.7364130434782609\n",
      "Precision: 0.7076897451557382\n",
      "Recall: 0.6561240077129191\n",
      "F1 Score: 0.6659648334783789\n",
      "ROC-AUC: 0.729200577634204\n"
     ]
    },
    {
     "data": {
      "image/png": "[encoded data removed]",
      "text/plain": [
       "<Figure size 640x480 with 1 Axes>"
      ]
     },
     "metadata": {},
     "output_type": "display_data"
    }
   ],
   "source": [
    "AB_model = AdaBoostClassifier()\n",
    "tester2.test_model(AB_model, \"AdaBoost\")"
   ]
  },
  {
   "cell_type": "code",
   "execution_count": 130,
   "id": "30e98ed0",
   "metadata": {
    "scrolled": true
   },
   "outputs": [
    {
     "name": "stdout",
     "output_type": "stream",
     "text": [
      "AdaBoost model without Donation Amount trained. (1/15)\n",
      "AdaBoost model without Gender trained. (2/15)\n",
      "AdaBoost model without lat trained. (3/15)\n",
      "AdaBoost model without lng trained. (4/15)\n",
      "AdaBoost model without population trained. (5/15)\n",
      "AdaBoost model without density trained. (6/15)\n",
      "AdaBoost model without Walk trained. (7/15)\n",
      "AdaBoost model without Memorials trained. (8/15)\n",
      "AdaBoost model without Chapter trained. (9/15)\n",
      "AdaBoost model without Individual Donor trained. (10/15)\n",
      "AdaBoost model without Direct Mail trained. (11/15)\n",
      "AdaBoost model without Comm Third Party trained. (12/15)\n",
      "AdaBoost model without Federated Donations trained. (13/15)\n",
      "AdaBoost model without Sponsorship trained. (14/15)\n",
      "AdaBoost model without Quarter trained. (15/15)\n",
      "===Lowest Performance Scores of each Metric of AdaBoost model===\n",
      "Lowest AUC: Direct Mail\n",
      "Lowest Precision: lng\n",
      "Lowest Accuracy: Donation Amount\n",
      "Lowest Recall: Donation Amount\n",
      "Lowest F1: Donation Amount\n"
     ]
    }
   ],
   "source": [
    "tester2.calc_scores(\"AdaBoost\")\n",
    "tester2.find_best_predictors(\"AdaBoost\")"
   ]
  },
  {
   "cell_type": "code",
   "execution_count": 321,
   "id": "fdd8a9ec",
   "metadata": {
    "scrolled": true
   },
   "outputs": [
    {
     "data": {
      "text/html": [
       "<div>\n",
       "<style scoped>\n",
       "    .dataframe tbody tr th:only-of-type {\n",
       "        vertical-align: middle;\n",
       "    }\n",
       "\n",
       "    .dataframe tbody tr th {\n",
       "        vertical-align: top;\n",
       "    }\n",
       "\n",
       "    .dataframe thead th {\n",
       "        text-align: right;\n",
       "    }\n",
       "</style>\n",
       "<table border=\"1\" class=\"dataframe\">\n",
       "  <thead>\n",
       "    <tr style=\"text-align: right;\">\n",
       "      <th></th>\n",
       "      <th>Donation Amount</th>\n",
       "      <th>Gender</th>\n",
       "      <th>lat</th>\n",
       "      <th>lng</th>\n",
       "      <th>population</th>\n",
       "      <th>density</th>\n",
       "      <th>Walk</th>\n",
       "      <th>Memorials</th>\n",
       "      <th>Chapter</th>\n",
       "      <th>Individual Donor</th>\n",
       "      <th>Direct Mail</th>\n",
       "      <th>Comm Third Party</th>\n",
       "      <th>Federated Donations</th>\n",
       "      <th>Sponsorship</th>\n",
       "      <th>Quarter</th>\n",
       "    </tr>\n",
       "  </thead>\n",
       "  <tbody>\n",
       "    <tr>\n",
       "      <th>36202</th>\n",
       "      <td>52.5</td>\n",
       "      <td>1</td>\n",
       "      <td>32.88227</td>\n",
       "      <td>-97.34895</td>\n",
       "      <td>47569.0</td>\n",
       "      <td>1182.0</td>\n",
       "      <td>0</td>\n",
       "      <td>1</td>\n",
       "      <td>0</td>\n",
       "      <td>0</td>\n",
       "      <td>0</td>\n",
       "      <td>0</td>\n",
       "      <td>0</td>\n",
       "      <td>0</td>\n",
       "      <td>3</td>\n",
       "    </tr>\n",
       "    <tr>\n",
       "      <th>19057</th>\n",
       "      <td>10.0</td>\n",
       "      <td>1</td>\n",
       "      <td>30.55851</td>\n",
       "      <td>-97.91473</td>\n",
       "      <td>81311.0</td>\n",
       "      <td>252.4</td>\n",
       "      <td>0</td>\n",
       "      <td>0</td>\n",
       "      <td>0</td>\n",
       "      <td>0</td>\n",
       "      <td>1</td>\n",
       "      <td>0</td>\n",
       "      <td>0</td>\n",
       "      <td>0</td>\n",
       "      <td>3</td>\n",
       "    </tr>\n",
       "    <tr>\n",
       "      <th>30761</th>\n",
       "      <td>10.0</td>\n",
       "      <td>-1</td>\n",
       "      <td>32.77943</td>\n",
       "      <td>-97.51811</td>\n",
       "      <td>44125.0</td>\n",
       "      <td>395.3</td>\n",
       "      <td>1</td>\n",
       "      <td>0</td>\n",
       "      <td>0</td>\n",
       "      <td>0</td>\n",
       "      <td>0</td>\n",
       "      <td>0</td>\n",
       "      <td>0</td>\n",
       "      <td>0</td>\n",
       "      <td>4</td>\n",
       "    </tr>\n",
       "    <tr>\n",
       "      <th>1695</th>\n",
       "      <td>20.0</td>\n",
       "      <td>-1</td>\n",
       "      <td>29.72477</td>\n",
       "      <td>-95.36498</td>\n",
       "      <td>34197.0</td>\n",
       "      <td>2519.3</td>\n",
       "      <td>1</td>\n",
       "      <td>0</td>\n",
       "      <td>0</td>\n",
       "      <td>0</td>\n",
       "      <td>0</td>\n",
       "      <td>0</td>\n",
       "      <td>0</td>\n",
       "      <td>0</td>\n",
       "      <td>3</td>\n",
       "    </tr>\n",
       "    <tr>\n",
       "      <th>43004</th>\n",
       "      <td>30.0</td>\n",
       "      <td>1</td>\n",
       "      <td>32.26006</td>\n",
       "      <td>-99.52872</td>\n",
       "      <td>7673.0</td>\n",
       "      <td>11.6</td>\n",
       "      <td>0</td>\n",
       "      <td>1</td>\n",
       "      <td>0</td>\n",
       "      <td>0</td>\n",
       "      <td>0</td>\n",
       "      <td>0</td>\n",
       "      <td>0</td>\n",
       "      <td>0</td>\n",
       "      <td>3</td>\n",
       "    </tr>\n",
       "    <tr>\n",
       "      <th>958</th>\n",
       "      <td>100.0</td>\n",
       "      <td>1</td>\n",
       "      <td>29.57584</td>\n",
       "      <td>-95.13406</td>\n",
       "      <td>24761.0</td>\n",
       "      <td>1644.6</td>\n",
       "      <td>1</td>\n",
       "      <td>0</td>\n",
       "      <td>0</td>\n",
       "      <td>0</td>\n",
       "      <td>0</td>\n",
       "      <td>0</td>\n",
       "      <td>0</td>\n",
       "      <td>0</td>\n",
       "      <td>4</td>\n",
       "    </tr>\n",
       "    <tr>\n",
       "      <th>36557</th>\n",
       "      <td>100.0</td>\n",
       "      <td>1</td>\n",
       "      <td>33.57235</td>\n",
       "      <td>-96.17730</td>\n",
       "      <td>14726.0</td>\n",
       "      <td>40.4</td>\n",
       "      <td>0</td>\n",
       "      <td>0</td>\n",
       "      <td>0</td>\n",
       "      <td>0</td>\n",
       "      <td>0</td>\n",
       "      <td>1</td>\n",
       "      <td>0</td>\n",
       "      <td>0</td>\n",
       "      <td>4</td>\n",
       "    </tr>\n",
       "    <tr>\n",
       "      <th>22842</th>\n",
       "      <td>100.0</td>\n",
       "      <td>-1</td>\n",
       "      <td>30.05392</td>\n",
       "      <td>-95.15884</td>\n",
       "      <td>27274.0</td>\n",
       "      <td>1256.1</td>\n",
       "      <td>1</td>\n",
       "      <td>0</td>\n",
       "      <td>0</td>\n",
       "      <td>0</td>\n",
       "      <td>0</td>\n",
       "      <td>0</td>\n",
       "      <td>0</td>\n",
       "      <td>0</td>\n",
       "      <td>3</td>\n",
       "    </tr>\n",
       "    <tr>\n",
       "      <th>33060</th>\n",
       "      <td>50.0</td>\n",
       "      <td>1</td>\n",
       "      <td>31.85005</td>\n",
       "      <td>-106.45417</td>\n",
       "      <td>32148.0</td>\n",
       "      <td>1038.6</td>\n",
       "      <td>1</td>\n",
       "      <td>0</td>\n",
       "      <td>0</td>\n",
       "      <td>0</td>\n",
       "      <td>0</td>\n",
       "      <td>0</td>\n",
       "      <td>0</td>\n",
       "      <td>0</td>\n",
       "      <td>4</td>\n",
       "    </tr>\n",
       "    <tr>\n",
       "      <th>43449</th>\n",
       "      <td>500.0</td>\n",
       "      <td>-1</td>\n",
       "      <td>32.32614</td>\n",
       "      <td>-100.92807</td>\n",
       "      <td>7758.0</td>\n",
       "      <td>5.0</td>\n",
       "      <td>0</td>\n",
       "      <td>1</td>\n",
       "      <td>0</td>\n",
       "      <td>0</td>\n",
       "      <td>0</td>\n",
       "      <td>0</td>\n",
       "      <td>0</td>\n",
       "      <td>0</td>\n",
       "      <td>4</td>\n",
       "    </tr>\n",
       "  </tbody>\n",
       "</table>\n",
       "</div>"
      ],
      "text/plain": [
       "       Donation Amount  Gender       lat        lng  population  density  \\\n",
       "36202             52.5       1  32.88227  -97.34895     47569.0   1182.0   \n",
       "19057             10.0       1  30.55851  -97.91473     81311.0    252.4   \n",
       "30761             10.0      -1  32.77943  -97.51811     44125.0    395.3   \n",
       "1695              20.0      -1  29.72477  -95.36498     34197.0   2519.3   \n",
       "43004             30.0       1  32.26006  -99.52872      7673.0     11.6   \n",
       "958              100.0       1  29.57584  -95.13406     24761.0   1644.6   \n",
       "36557            100.0       1  33.57235  -96.17730     14726.0     40.4   \n",
       "22842            100.0      -1  30.05392  -95.15884     27274.0   1256.1   \n",
       "33060             50.0       1  31.85005 -106.45417     32148.0   1038.6   \n",
       "43449            500.0      -1  32.32614 -100.92807      7758.0      5.0   \n",
       "\n",
       "       Walk  Memorials  Chapter  Individual Donor  Direct Mail  \\\n",
       "36202     0          1        0                 0            0   \n",
       "19057     0          0        0                 0            1   \n",
       "30761     1          0        0                 0            0   \n",
       "1695      1          0        0                 0            0   \n",
       "43004     0          1        0                 0            0   \n",
       "958       1          0        0                 0            0   \n",
       "36557     0          0        0                 0            0   \n",
       "22842     1          0        0                 0            0   \n",
       "33060     1          0        0                 0            0   \n",
       "43449     0          1        0                 0            0   \n",
       "\n",
       "       Comm Third Party  Federated Donations  Sponsorship  Quarter  \n",
       "36202                 0                    0            0        3  \n",
       "19057                 0                    0            0        3  \n",
       "30761                 0                    0            0        4  \n",
       "1695                  0                    0            0        3  \n",
       "43004                 0                    0            0        3  \n",
       "958                   0                    0            0        4  \n",
       "36557                 1                    0            0        4  \n",
       "22842                 0                    0            0        3  \n",
       "33060                 0                    0            0        4  \n",
       "43449                 0                    0            0        4  "
      ]
     },
     "execution_count": 321,
     "metadata": {},
     "output_type": "execute_result"
    }
   ],
   "source": [
    "rows2 = tester2.X_test.head(10)\n",
    "actual = tester2.y_test.head(10)\n",
    "rows2"
   ]
  },
  {
   "cell_type": "code",
   "execution_count": 322,
   "id": "1961058e",
   "metadata": {
    "scrolled": true
   },
   "outputs": [
    {
     "data": {
      "text/html": [
       "<div>\n",
       "<style scoped>\n",
       "    .dataframe tbody tr th:only-of-type {\n",
       "        vertical-align: middle;\n",
       "    }\n",
       "\n",
       "    .dataframe tbody tr th {\n",
       "        vertical-align: top;\n",
       "    }\n",
       "\n",
       "    .dataframe thead th {\n",
       "        text-align: right;\n",
       "    }\n",
       "</style>\n",
       "<table border=\"1\" class=\"dataframe\">\n",
       "  <thead>\n",
       "    <tr style=\"text-align: right;\">\n",
       "      <th></th>\n",
       "      <th>Predicted Not Retained Probability</th>\n",
       "      <th>Predicted Retained Probability</th>\n",
       "      <th>Retained</th>\n",
       "    </tr>\n",
       "  </thead>\n",
       "  <tbody>\n",
       "    <tr>\n",
       "      <th>36202</th>\n",
       "      <td>0.676308</td>\n",
       "      <td>0.323692</td>\n",
       "      <td>0</td>\n",
       "    </tr>\n",
       "    <tr>\n",
       "      <th>19057</th>\n",
       "      <td>0.161712</td>\n",
       "      <td>0.838288</td>\n",
       "      <td>1</td>\n",
       "    </tr>\n",
       "    <tr>\n",
       "      <th>30761</th>\n",
       "      <td>0.243525</td>\n",
       "      <td>0.756475</td>\n",
       "      <td>0</td>\n",
       "    </tr>\n",
       "    <tr>\n",
       "      <th>1695</th>\n",
       "      <td>0.233041</td>\n",
       "      <td>0.766959</td>\n",
       "      <td>0</td>\n",
       "    </tr>\n",
       "    <tr>\n",
       "      <th>43004</th>\n",
       "      <td>0.721923</td>\n",
       "      <td>0.278077</td>\n",
       "      <td>0</td>\n",
       "    </tr>\n",
       "    <tr>\n",
       "      <th>958</th>\n",
       "      <td>0.245532</td>\n",
       "      <td>0.754468</td>\n",
       "      <td>1</td>\n",
       "    </tr>\n",
       "    <tr>\n",
       "      <th>36557</th>\n",
       "      <td>0.560112</td>\n",
       "      <td>0.439888</td>\n",
       "      <td>0</td>\n",
       "    </tr>\n",
       "    <tr>\n",
       "      <th>22842</th>\n",
       "      <td>0.237782</td>\n",
       "      <td>0.762218</td>\n",
       "      <td>0</td>\n",
       "    </tr>\n",
       "    <tr>\n",
       "      <th>33060</th>\n",
       "      <td>0.244651</td>\n",
       "      <td>0.755349</td>\n",
       "      <td>1</td>\n",
       "    </tr>\n",
       "    <tr>\n",
       "      <th>43449</th>\n",
       "      <td>0.727194</td>\n",
       "      <td>0.272806</td>\n",
       "      <td>0</td>\n",
       "    </tr>\n",
       "  </tbody>\n",
       "</table>\n",
       "</div>"
      ],
      "text/plain": [
       "       Predicted Not Retained Probability  Predicted Retained Probability  \\\n",
       "36202                            0.676308                        0.323692   \n",
       "19057                            0.161712                        0.838288   \n",
       "30761                            0.243525                        0.756475   \n",
       "1695                             0.233041                        0.766959   \n",
       "43004                            0.721923                        0.278077   \n",
       "958                              0.245532                        0.754468   \n",
       "36557                            0.560112                        0.439888   \n",
       "22842                            0.237782                        0.762218   \n",
       "33060                            0.244651                        0.755349   \n",
       "43449                            0.727194                        0.272806   \n",
       "\n",
       "       Retained  \n",
       "36202         0  \n",
       "19057         1  \n",
       "30761         0  \n",
       "1695          0  \n",
       "43004         0  \n",
       "958           1  \n",
       "36557         0  \n",
       "22842         0  \n",
       "33060         1  \n",
       "43449         0  "
      ]
     },
     "execution_count": 322,
     "metadata": {},
     "output_type": "execute_result"
    }
   ],
   "source": [
    "predicted = tester2.predict(rows2, \"SVM\")\n",
    "prediction_prob = pd.DataFrame(data = predicted, index = rows2.index , columns = [\"Predicted Not Retained Probability\", \"Predicted Retained Probability\"])\n",
    "prediction_prob.merge(actual, left_index = True, right_index = True)"
   ]
  },
  {
   "cell_type": "markdown",
   "id": "cabe38b7",
   "metadata": {},
   "source": [
    "# No Missing Age or Gender"
   ]
  },
  {
   "cell_type": "code",
   "execution_count": 52,
   "id": "48e3c93b",
   "metadata": {},
   "outputs": [],
   "source": [
    "tester3 = model_tester(quant_df.dropna(), 'Retained')"
   ]
  },
  {
   "cell_type": "markdown",
   "id": "f63c0b0c",
   "metadata": {},
   "source": [
    "### Logistic Regression"
   ]
  },
  {
   "cell_type": "code",
   "execution_count": 53,
   "id": "78924afe",
   "metadata": {
    "scrolled": true
   },
   "outputs": [
    {
     "name": "stdout",
     "output_type": "stream",
     "text": [
      "Logistic Regression model performance\n",
      "Confusion Matrix:\n",
      " [[26 27]\n",
      " [42 66]]\n",
      "Accuracy: 0.5714285714285714\n",
      "Precision: 0.5460151802656547\n",
      "Recall: 0.55083857442348\n",
      "F1 Score: 0.5432342420130751\n",
      "ROC-AUC: 0.565863032844165\n"
     ]
    },
    {
     "data": {
      "image/png": "[encoded data removed]",
      "text/plain": [
       "<Figure size 640x480 with 1 Axes>"
      ]
     },
     "metadata": {},
     "output_type": "display_data"
    }
   ],
   "source": [
    "LR_model = LogisticRegression(class_weight = 'balanced', max_iter = 3000)\n",
    "tester3.test_model(LR_model, \"Logistic Regression\")"
   ]
  },
  {
   "cell_type": "code",
   "execution_count": 54,
   "id": "d3dc6689",
   "metadata": {},
   "outputs": [
    {
     "name": "stdout",
     "output_type": "stream",
     "text": [
      "Logistic Regression model without Donation Amount trained. (1/15)\n",
      "Logistic Regression model without Gender trained. (2/15)\n",
      "Logistic Regression model without lat trained. (3/15)\n",
      "Logistic Regression model without lng trained. (4/15)\n",
      "Logistic Regression model without population trained. (5/15)\n",
      "Logistic Regression model without density trained. (6/15)\n",
      "Logistic Regression model without Walk trained. (7/15)\n",
      "Logistic Regression model without Memorials trained. (8/15)\n",
      "Logistic Regression model without Chapter trained. (9/15)\n",
      "Logistic Regression model without Individual Donor trained. (10/15)\n",
      "Logistic Regression model without Direct Mail trained. (11/15)\n",
      "Logistic Regression model without Comm Third Party trained. (12/15)\n",
      "Logistic Regression model without Federated Donations trained. (13/15)\n",
      "Logistic Regression model without Sponsorship trained. (14/15)\n",
      "Logistic Regression model without Quarter trained. (15/15)\n",
      "===Lowest Performance Scores of each Metric of Logistic Regression model===\n",
      "Lowest AUC: Donation Amount\n",
      "Lowest Precision: Donation Amount\n",
      "Lowest Accuracy: Donation Amount\n",
      "Lowest Recall: Donation Amount\n",
      "Lowest F1: Donation Amount\n"
     ]
    }
   ],
   "source": [
    "tester2.calc_scores(\"Logistic Regression\")\n",
    "tester2.find_best_predictors(\"Logistic Regression\")"
   ]
  },
  {
   "cell_type": "markdown",
   "id": "2c4beab9",
   "metadata": {},
   "source": [
    "### SVM"
   ]
  },
  {
   "cell_type": "code",
   "execution_count": 55,
   "id": "ee82009b",
   "metadata": {},
   "outputs": [
    {
     "name": "stdout",
     "output_type": "stream",
     "text": [
      "SVM model performance\n",
      "Confusion Matrix:\n",
      " [[  0  53]\n",
      " [  1 107]]\n",
      "Accuracy: 0.6645962732919255\n",
      "Precision: 0.334375\n",
      "Recall: 0.49537037037037035\n",
      "F1 Score: 0.39925373134328357\n",
      "ROC-AUC: 0.6139063591893781\n"
     ]
    },
    {
     "data": {
      "image/png": "[encoded data removed]",
      "text/plain": [
       "<Figure size 640x480 with 1 Axes>"
      ]
     },
     "metadata": {},
     "output_type": "display_data"
    }
   ],
   "source": [
    "tester3.test_model(SVM_model, \"SVM\")"
   ]
  },
  {
   "cell_type": "code",
   "execution_count": 56,
   "id": "4640cd03",
   "metadata": {
    "scrolled": true
   },
   "outputs": [
    {
     "name": "stdout",
     "output_type": "stream",
     "text": [
      "SVM model without Donation Amount trained. (1/16)\n",
      "SVM model without Gender trained. (2/16)\n",
      "SVM model without Age trained. (3/16)\n"
     ]
    },
    {
     "name": "stderr",
     "output_type": "stream",
     "text": [
      "/Users/frankliu/opt/anaconda3/lib/python3.8/site-packages/sklearn/metrics/_classification.py:1344: UndefinedMetricWarning: Precision is ill-defined and being set to 0.0 in labels with no predicted samples. Use `zero_division` parameter to control this behavior.\n",
      "  _warn_prf(average, modifier, msg_start, len(result))\n",
      "/Users/frankliu/opt/anaconda3/lib/python3.8/site-packages/sklearn/metrics/_classification.py:1344: UndefinedMetricWarning: Precision is ill-defined and being set to 0.0 in labels with no predicted samples. Use `zero_division` parameter to control this behavior.\n",
      "  _warn_prf(average, modifier, msg_start, len(result))\n",
      "/Users/frankliu/opt/anaconda3/lib/python3.8/site-packages/sklearn/metrics/_classification.py:1344: UndefinedMetricWarning: Precision is ill-defined and being set to 0.0 in labels with no predicted samples. Use `zero_division` parameter to control this behavior.\n",
      "  _warn_prf(average, modifier, msg_start, len(result))\n",
      "/Users/frankliu/opt/anaconda3/lib/python3.8/site-packages/sklearn/metrics/_classification.py:1344: UndefinedMetricWarning: Precision is ill-defined and being set to 0.0 in labels with no predicted samples. Use `zero_division` parameter to control this behavior.\n",
      "  _warn_prf(average, modifier, msg_start, len(result))\n",
      "/Users/frankliu/opt/anaconda3/lib/python3.8/site-packages/sklearn/metrics/_classification.py:1344: UndefinedMetricWarning: Precision is ill-defined and being set to 0.0 in labels with no predicted samples. Use `zero_division` parameter to control this behavior.\n",
      "  _warn_prf(average, modifier, msg_start, len(result))\n"
     ]
    },
    {
     "name": "stdout",
     "output_type": "stream",
     "text": [
      "SVM model without lat trained. (4/16)\n",
      "SVM model without lng trained. (5/16)\n",
      "SVM model without population trained. (6/16)\n",
      "SVM model without density trained. (7/16)\n",
      "SVM model without Walk trained. (8/16)\n",
      "SVM model without Memorials trained. (9/16)\n"
     ]
    },
    {
     "name": "stderr",
     "output_type": "stream",
     "text": [
      "/Users/frankliu/opt/anaconda3/lib/python3.8/site-packages/sklearn/metrics/_classification.py:1344: UndefinedMetricWarning: Precision is ill-defined and being set to 0.0 in labels with no predicted samples. Use `zero_division` parameter to control this behavior.\n",
      "  _warn_prf(average, modifier, msg_start, len(result))\n",
      "/Users/frankliu/opt/anaconda3/lib/python3.8/site-packages/sklearn/metrics/_classification.py:1344: UndefinedMetricWarning: Precision is ill-defined and being set to 0.0 in labels with no predicted samples. Use `zero_division` parameter to control this behavior.\n",
      "  _warn_prf(average, modifier, msg_start, len(result))\n",
      "/Users/frankliu/opt/anaconda3/lib/python3.8/site-packages/sklearn/metrics/_classification.py:1344: UndefinedMetricWarning: Precision is ill-defined and being set to 0.0 in labels with no predicted samples. Use `zero_division` parameter to control this behavior.\n",
      "  _warn_prf(average, modifier, msg_start, len(result))\n",
      "/Users/frankliu/opt/anaconda3/lib/python3.8/site-packages/sklearn/metrics/_classification.py:1344: UndefinedMetricWarning: Precision is ill-defined and being set to 0.0 in labels with no predicted samples. Use `zero_division` parameter to control this behavior.\n",
      "  _warn_prf(average, modifier, msg_start, len(result))\n",
      "/Users/frankliu/opt/anaconda3/lib/python3.8/site-packages/sklearn/metrics/_classification.py:1344: UndefinedMetricWarning: Precision is ill-defined and being set to 0.0 in labels with no predicted samples. Use `zero_division` parameter to control this behavior.\n",
      "  _warn_prf(average, modifier, msg_start, len(result))\n"
     ]
    },
    {
     "name": "stdout",
     "output_type": "stream",
     "text": [
      "SVM model without Chapter trained. (10/16)\n",
      "SVM model without Individual Donor trained. (11/16)\n",
      "SVM model without Direct Mail trained. (12/16)\n",
      "SVM model without Comm Third Party trained. (13/16)\n",
      "SVM model without Federated Donations trained. (14/16)\n",
      "SVM model without Sponsorship trained. (15/16)\n",
      "SVM model without Quarter trained. (16/16)\n",
      "===Lowest Performance Scores of each Metric of SVM model===\n",
      "Lowest AUC: Direct Mail\n",
      "Lowest Precision: Memorials\n",
      "Lowest Accuracy: Memorials\n",
      "Lowest Recall: Memorials\n",
      "Lowest F1: Memorials\n"
     ]
    },
    {
     "name": "stderr",
     "output_type": "stream",
     "text": [
      "/Users/frankliu/opt/anaconda3/lib/python3.8/site-packages/sklearn/metrics/_classification.py:1344: UndefinedMetricWarning: Precision is ill-defined and being set to 0.0 in labels with no predicted samples. Use `zero_division` parameter to control this behavior.\n",
      "  _warn_prf(average, modifier, msg_start, len(result))\n",
      "/Users/frankliu/opt/anaconda3/lib/python3.8/site-packages/sklearn/metrics/_classification.py:1344: UndefinedMetricWarning: Precision is ill-defined and being set to 0.0 in labels with no predicted samples. Use `zero_division` parameter to control this behavior.\n",
      "  _warn_prf(average, modifier, msg_start, len(result))\n"
     ]
    }
   ],
   "source": [
    "tester3.calc_scores(\"SVM\")\n",
    "tester3.find_best_predictors(\"SVM\")"
   ]
  },
  {
   "cell_type": "code",
   "execution_count": 57,
   "id": "98a51ff6",
   "metadata": {
    "scrolled": true
   },
   "outputs": [
    {
     "name": "stdout",
     "output_type": "stream",
     "text": [
      "<class 'pandas.core.frame.DataFrame'>\n",
      "Int64Index: 44379 entries, 0 to 44378\n",
      "Data columns (total 16 columns):\n",
      " #   Column               Non-Null Count  Dtype  \n",
      "---  ------               --------------  -----  \n",
      " 0   Donation Amount      44379 non-null  float64\n",
      " 1   Gender               44379 non-null  int64  \n",
      " 2   Retained             44379 non-null  int64  \n",
      " 3   lat                  44379 non-null  float64\n",
      " 4   lng                  44379 non-null  float64\n",
      " 5   population           44379 non-null  float64\n",
      " 6   density              44379 non-null  float64\n",
      " 7   Walk                 44379 non-null  uint8  \n",
      " 8   Memorials            44379 non-null  uint8  \n",
      " 9   Chapter              44379 non-null  uint8  \n",
      " 10  Individual Donor     44379 non-null  uint8  \n",
      " 11  Direct Mail          44379 non-null  uint8  \n",
      " 12  Comm Third Party     44379 non-null  uint8  \n",
      " 13  Federated Donations  44379 non-null  uint8  \n",
      " 14  Sponsorship          44379 non-null  uint8  \n",
      " 15  Quarter              44379 non-null  int64  \n",
      "dtypes: float64(5), int64(3), uint8(8)\n",
      "memory usage: 3.4 MB\n"
     ]
    }
   ],
   "source": [
    "quant_df.drop('Age', axis = 1).info()"
   ]
  }
 ],
 "metadata": {
  "kernelspec": {
   "display_name": "Python 3 (ipykernel)",
   "language": "python",
   "name": "python3"
  },
  "language_info": {
   "codemirror_mode": {
    "name": "ipython",
    "version": 3
   },
   "file_extension": ".py",
   "mimetype": "text/x-python",
   "name": "python",
   "nbconvert_exporter": "python",
   "pygments_lexer": "ipython3",
   "version": "3.8.16"
  }
 },
 "nbformat": 4,
 "nbformat_minor": 5
}
